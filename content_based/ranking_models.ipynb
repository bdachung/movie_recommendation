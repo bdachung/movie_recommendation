{
 "cells": [
  {
   "cell_type": "code",
   "execution_count": null,
   "id": "66848064-51d0-4d64-8a32-2d8521dd43d7",
   "metadata": {},
   "outputs": [],
   "source": [
    "!pip install tensorflow"
   ]
  },
  {
   "cell_type": "code",
   "execution_count": null,
   "id": "9f139a99-5f64-4195-88ba-9f05d7d193cf",
   "metadata": {},
   "outputs": [],
   "source": [
    "!pip install tensorflow-gpu"
   ]
  },
  {
   "cell_type": "code",
   "execution_count": null,
   "id": "1a01ac15-e157-4dcd-87f6-ef1830799280",
   "metadata": {},
   "outputs": [],
   "source": [
    "!pip install -q tensorflow-ranking"
   ]
  },
  {
   "cell_type": "code",
   "execution_count": null,
   "id": "8506d227-747d-4c4e-8d76-e12e012c60b6",
   "metadata": {},
   "outputs": [],
   "source": [
    "!pip install matplotlib"
   ]
  },
  {
   "cell_type": "code",
   "execution_count": null,
   "id": "48762420-e8a9-4226-af1e-34f2b8fb792b",
   "metadata": {},
   "outputs": [],
   "source": [
    "!pip install scikit-learn"
   ]
  },
  {
   "cell_type": "code",
   "execution_count": null,
   "id": "e2b9d0f9-5cb2-411a-9a1c-e8cf3328c664",
   "metadata": {},
   "outputs": [],
   "source": [
    "!pip install pydot"
   ]
  },
  {
   "cell_type": "code",
   "execution_count": null,
   "id": "1c67971b-4664-4fd7-bc5c-69a1458c76dc",
   "metadata": {},
   "outputs": [],
   "source": [
    "!pip install lightgbm"
   ]
  },
  {
   "cell_type": "code",
   "execution_count": null,
   "id": "f9f02c0f-b2ff-4b3e-b4b4-6561eb56520f",
   "metadata": {},
   "outputs": [],
   "source": [
    "!pip install xgboost"
   ]
  },
  {
   "cell_type": "code",
   "execution_count": 1,
   "id": "9292bc3f-7088-434b-bfee-180153f39a0a",
   "metadata": {},
   "outputs": [],
   "source": [
    "import tensorflow_ranking as tfr\n",
    "import pandas as pd\n",
    "import numpy as np\n",
    "from itertools import combinations\n",
    "import tensorflow as tf\n",
    "import tensorflow.keras as keras\n",
    "from tensorflow.nn import leaky_relu\n",
    "from tensorflow.keras.utils import plot_model"
   ]
  },
  {
   "cell_type": "code",
   "execution_count": 2,
   "id": "e56eaf86-9ca3-4e94-b2ad-6ec5297496b3",
   "metadata": {},
   "outputs": [],
   "source": [
    "r_cols = ['user_id', 'movie_id', 'rating', 'unix_timestamp']\n",
    "\n",
    "ratings_base = pd.read_csv('data/ml-100k/ua.base', sep='\\t', names=r_cols, encoding='latin-1')\n",
    "ratings_test = pd.read_csv('data/ml-100k/ua.test', sep='\\t', names=r_cols, encoding='latin-1')\n",
    "\n",
    "rate_train = ratings_base.values\n",
    "rate_test = ratings_test.values\n",
    "\n",
    "# indices start from 0\n",
    "rate_train[:, :2] -= 1\n",
    "rate_test[:, :2] -= 1"
   ]
  },
  {
   "cell_type": "code",
   "execution_count": 3,
   "id": "747cd04a-ad35-45dd-9ea8-c02acea13b87",
   "metadata": {},
   "outputs": [
    {
     "data": {
      "text/html": [
       "<div>\n",
       "<style scoped>\n",
       "    .dataframe tbody tr th:only-of-type {\n",
       "        vertical-align: middle;\n",
       "    }\n",
       "\n",
       "    .dataframe tbody tr th {\n",
       "        vertical-align: top;\n",
       "    }\n",
       "\n",
       "    .dataframe thead th {\n",
       "        text-align: right;\n",
       "    }\n",
       "</style>\n",
       "<table border=\"1\" class=\"dataframe\">\n",
       "  <thead>\n",
       "    <tr style=\"text-align: right;\">\n",
       "      <th></th>\n",
       "      <th>user_id</th>\n",
       "      <th>movie_id</th>\n",
       "      <th>rating</th>\n",
       "      <th>unix_timestamp</th>\n",
       "    </tr>\n",
       "  </thead>\n",
       "  <tbody>\n",
       "    <tr>\n",
       "      <th>0</th>\n",
       "      <td>0</td>\n",
       "      <td>0</td>\n",
       "      <td>5</td>\n",
       "      <td>874965758</td>\n",
       "    </tr>\n",
       "    <tr>\n",
       "      <th>1</th>\n",
       "      <td>0</td>\n",
       "      <td>1</td>\n",
       "      <td>3</td>\n",
       "      <td>876893171</td>\n",
       "    </tr>\n",
       "  </tbody>\n",
       "</table>\n",
       "</div>"
      ],
      "text/plain": [
       "   user_id  movie_id  rating  unix_timestamp\n",
       "0        0         0       5       874965758\n",
       "1        0         1       3       876893171"
      ]
     },
     "execution_count": 3,
     "metadata": {},
     "output_type": "execute_result"
    }
   ],
   "source": [
    "ratings_base.head(2)"
   ]
  },
  {
   "cell_type": "code",
   "execution_count": 4,
   "id": "76da2610-2c56-44ef-81cb-c02f3e476241",
   "metadata": {},
   "outputs": [
    {
     "data": {
      "text/html": [
       "<div>\n",
       "<style scoped>\n",
       "    .dataframe tbody tr th:only-of-type {\n",
       "        vertical-align: middle;\n",
       "    }\n",
       "\n",
       "    .dataframe tbody tr th {\n",
       "        vertical-align: top;\n",
       "    }\n",
       "\n",
       "    .dataframe thead th {\n",
       "        text-align: right;\n",
       "    }\n",
       "</style>\n",
       "<table border=\"1\" class=\"dataframe\">\n",
       "  <thead>\n",
       "    <tr style=\"text-align: right;\">\n",
       "      <th></th>\n",
       "      <th>user_id</th>\n",
       "      <th>movie_id</th>\n",
       "      <th>rating</th>\n",
       "      <th>unix_timestamp</th>\n",
       "    </tr>\n",
       "  </thead>\n",
       "  <tbody>\n",
       "    <tr>\n",
       "      <th>0</th>\n",
       "      <td>0</td>\n",
       "      <td>19</td>\n",
       "      <td>4</td>\n",
       "      <td>887431883</td>\n",
       "    </tr>\n",
       "    <tr>\n",
       "      <th>1</th>\n",
       "      <td>0</td>\n",
       "      <td>32</td>\n",
       "      <td>4</td>\n",
       "      <td>878542699</td>\n",
       "    </tr>\n",
       "  </tbody>\n",
       "</table>\n",
       "</div>"
      ],
      "text/plain": [
       "   user_id  movie_id  rating  unix_timestamp\n",
       "0        0        19       4       887431883\n",
       "1        0        32       4       878542699"
      ]
     },
     "execution_count": 4,
     "metadata": {},
     "output_type": "execute_result"
    }
   ],
   "source": [
    "ratings_test.head(2)"
   ]
  },
  {
   "cell_type": "code",
   "execution_count": 3,
   "id": "75a37494-56f1-4c55-81b3-1d8633fcf1e4",
   "metadata": {},
   "outputs": [
    {
     "name": "stdout",
     "output_type": "stream",
     "text": [
      "Number of items: 1682\n"
     ]
    },
    {
     "data": {
      "text/html": [
       "<div>\n",
       "<style scoped>\n",
       "    .dataframe tbody tr th:only-of-type {\n",
       "        vertical-align: middle;\n",
       "    }\n",
       "\n",
       "    .dataframe tbody tr th {\n",
       "        vertical-align: top;\n",
       "    }\n",
       "\n",
       "    .dataframe thead th {\n",
       "        text-align: right;\n",
       "    }\n",
       "</style>\n",
       "<table border=\"1\" class=\"dataframe\">\n",
       "  <thead>\n",
       "    <tr style=\"text-align: right;\">\n",
       "      <th></th>\n",
       "      <th>movie_id</th>\n",
       "      <th>unknown</th>\n",
       "      <th>Action</th>\n",
       "      <th>Adventure</th>\n",
       "      <th>Animation</th>\n",
       "      <th>Children_s</th>\n",
       "      <th>Comedy</th>\n",
       "      <th>Crime</th>\n",
       "      <th>Documentary</th>\n",
       "      <th>Drama</th>\n",
       "      <th>Fantasy</th>\n",
       "      <th>Film_Noir</th>\n",
       "      <th>Horror</th>\n",
       "      <th>Musical</th>\n",
       "      <th>Mystery</th>\n",
       "      <th>Romance</th>\n",
       "      <th>Sci_Fi</th>\n",
       "      <th>Thriller</th>\n",
       "      <th>War</th>\n",
       "      <th>Western</th>\n",
       "    </tr>\n",
       "  </thead>\n",
       "  <tbody>\n",
       "    <tr>\n",
       "      <th>0</th>\n",
       "      <td>0</td>\n",
       "      <td>0</td>\n",
       "      <td>0</td>\n",
       "      <td>0</td>\n",
       "      <td>1</td>\n",
       "      <td>1</td>\n",
       "      <td>1</td>\n",
       "      <td>0</td>\n",
       "      <td>0</td>\n",
       "      <td>0</td>\n",
       "      <td>0</td>\n",
       "      <td>0</td>\n",
       "      <td>0</td>\n",
       "      <td>0</td>\n",
       "      <td>0</td>\n",
       "      <td>0</td>\n",
       "      <td>0</td>\n",
       "      <td>0</td>\n",
       "      <td>0</td>\n",
       "      <td>0</td>\n",
       "    </tr>\n",
       "    <tr>\n",
       "      <th>1</th>\n",
       "      <td>1</td>\n",
       "      <td>0</td>\n",
       "      <td>1</td>\n",
       "      <td>1</td>\n",
       "      <td>0</td>\n",
       "      <td>0</td>\n",
       "      <td>0</td>\n",
       "      <td>0</td>\n",
       "      <td>0</td>\n",
       "      <td>0</td>\n",
       "      <td>0</td>\n",
       "      <td>0</td>\n",
       "      <td>0</td>\n",
       "      <td>0</td>\n",
       "      <td>0</td>\n",
       "      <td>0</td>\n",
       "      <td>0</td>\n",
       "      <td>1</td>\n",
       "      <td>0</td>\n",
       "      <td>0</td>\n",
       "    </tr>\n",
       "    <tr>\n",
       "      <th>2</th>\n",
       "      <td>2</td>\n",
       "      <td>0</td>\n",
       "      <td>0</td>\n",
       "      <td>0</td>\n",
       "      <td>0</td>\n",
       "      <td>0</td>\n",
       "      <td>0</td>\n",
       "      <td>0</td>\n",
       "      <td>0</td>\n",
       "      <td>0</td>\n",
       "      <td>0</td>\n",
       "      <td>0</td>\n",
       "      <td>0</td>\n",
       "      <td>0</td>\n",
       "      <td>0</td>\n",
       "      <td>0</td>\n",
       "      <td>0</td>\n",
       "      <td>1</td>\n",
       "      <td>0</td>\n",
       "      <td>0</td>\n",
       "    </tr>\n",
       "    <tr>\n",
       "      <th>3</th>\n",
       "      <td>3</td>\n",
       "      <td>0</td>\n",
       "      <td>1</td>\n",
       "      <td>0</td>\n",
       "      <td>0</td>\n",
       "      <td>0</td>\n",
       "      <td>1</td>\n",
       "      <td>0</td>\n",
       "      <td>0</td>\n",
       "      <td>1</td>\n",
       "      <td>0</td>\n",
       "      <td>0</td>\n",
       "      <td>0</td>\n",
       "      <td>0</td>\n",
       "      <td>0</td>\n",
       "      <td>0</td>\n",
       "      <td>0</td>\n",
       "      <td>0</td>\n",
       "      <td>0</td>\n",
       "      <td>0</td>\n",
       "    </tr>\n",
       "    <tr>\n",
       "      <th>4</th>\n",
       "      <td>4</td>\n",
       "      <td>0</td>\n",
       "      <td>0</td>\n",
       "      <td>0</td>\n",
       "      <td>0</td>\n",
       "      <td>0</td>\n",
       "      <td>0</td>\n",
       "      <td>1</td>\n",
       "      <td>0</td>\n",
       "      <td>1</td>\n",
       "      <td>0</td>\n",
       "      <td>0</td>\n",
       "      <td>0</td>\n",
       "      <td>0</td>\n",
       "      <td>0</td>\n",
       "      <td>0</td>\n",
       "      <td>0</td>\n",
       "      <td>1</td>\n",
       "      <td>0</td>\n",
       "      <td>0</td>\n",
       "    </tr>\n",
       "  </tbody>\n",
       "</table>\n",
       "</div>"
      ],
      "text/plain": [
       "   movie_id  unknown  Action  Adventure  Animation  Children_s  Comedy  Crime  \\\n",
       "0         0        0       0          0          1           1       1      0   \n",
       "1         1        0       1          1          0           0       0      0   \n",
       "2         2        0       0          0          0           0       0      0   \n",
       "3         3        0       1          0          0           0       1      0   \n",
       "4         4        0       0          0          0           0       0      1   \n",
       "\n",
       "   Documentary  Drama  Fantasy  Film_Noir  Horror  Musical  Mystery  Romance  \\\n",
       "0            0      0        0          0       0        0        0        0   \n",
       "1            0      0        0          0       0        0        0        0   \n",
       "2            0      0        0          0       0        0        0        0   \n",
       "3            0      1        0          0       0        0        0        0   \n",
       "4            0      1        0          0       0        0        0        0   \n",
       "\n",
       "   Sci_Fi  Thriller  War  Western  \n",
       "0       0         0    0        0  \n",
       "1       0         1    0        0  \n",
       "2       0         1    0        0  \n",
       "3       0         0    0        0  \n",
       "4       0         1    0        0  "
      ]
     },
     "execution_count": 3,
     "metadata": {},
     "output_type": "execute_result"
    }
   ],
   "source": [
    "i_cols = ['movie_id', 'movie_title' ,'release_date','video_release_date', 'IMDb_URL', 'unknown', 'Action', 'Adventure',\n",
    " 'Animation', 'Children_s', 'Comedy', 'Crime', 'Documentary', 'Drama', 'Fantasy',\n",
    " 'Film_Noir', 'Horror', 'Musical', 'Mystery', 'Romance', 'Sci_Fi', 'Thriller', 'War', 'Western']\n",
    "\n",
    "items = pd.read_csv('data/ml-100k/u.item', sep='|', names=i_cols, encoding='latin-1')\n",
    "\n",
    "items.drop(['video_release_date', 'movie_title', 'release_date', 'IMDb_URL'], axis=1,inplace=True)\n",
    "\n",
    "items['movie_id'] = items['movie_id'] - 1\n",
    "\n",
    "n_items = items.shape[0]\n",
    "print('Number of items:', n_items)\n",
    "items.head()"
   ]
  },
  {
   "cell_type": "code",
   "execution_count": 5,
   "id": "8e678907-a258-43fe-850d-1d08dee2faa6",
   "metadata": {},
   "outputs": [
    {
     "data": {
      "text/html": [
       "<div>\n",
       "<style scoped>\n",
       "    .dataframe tbody tr th:only-of-type {\n",
       "        vertical-align: middle;\n",
       "    }\n",
       "\n",
       "    .dataframe tbody tr th {\n",
       "        vertical-align: top;\n",
       "    }\n",
       "\n",
       "    .dataframe thead th {\n",
       "        text-align: right;\n",
       "    }\n",
       "</style>\n",
       "<table border=\"1\" class=\"dataframe\">\n",
       "  <thead>\n",
       "    <tr style=\"text-align: right;\">\n",
       "      <th></th>\n",
       "      <th>user_id</th>\n",
       "      <th>movie_id</th>\n",
       "      <th>rating</th>\n",
       "      <th>unix_timestamp</th>\n",
       "      <th>unknown</th>\n",
       "      <th>Action</th>\n",
       "      <th>Adventure</th>\n",
       "      <th>Animation</th>\n",
       "      <th>Children_s</th>\n",
       "      <th>Comedy</th>\n",
       "      <th>...</th>\n",
       "      <th>Fantasy</th>\n",
       "      <th>Film_Noir</th>\n",
       "      <th>Horror</th>\n",
       "      <th>Musical</th>\n",
       "      <th>Mystery</th>\n",
       "      <th>Romance</th>\n",
       "      <th>Sci_Fi</th>\n",
       "      <th>Thriller</th>\n",
       "      <th>War</th>\n",
       "      <th>Western</th>\n",
       "    </tr>\n",
       "  </thead>\n",
       "  <tbody>\n",
       "    <tr>\n",
       "      <th>0</th>\n",
       "      <td>0</td>\n",
       "      <td>0</td>\n",
       "      <td>5</td>\n",
       "      <td>874965758</td>\n",
       "      <td>0</td>\n",
       "      <td>0</td>\n",
       "      <td>0</td>\n",
       "      <td>1</td>\n",
       "      <td>1</td>\n",
       "      <td>1</td>\n",
       "      <td>...</td>\n",
       "      <td>0</td>\n",
       "      <td>0</td>\n",
       "      <td>0</td>\n",
       "      <td>0</td>\n",
       "      <td>0</td>\n",
       "      <td>0</td>\n",
       "      <td>0</td>\n",
       "      <td>0</td>\n",
       "      <td>0</td>\n",
       "      <td>0</td>\n",
       "    </tr>\n",
       "    <tr>\n",
       "      <th>1</th>\n",
       "      <td>1</td>\n",
       "      <td>0</td>\n",
       "      <td>4</td>\n",
       "      <td>888550871</td>\n",
       "      <td>0</td>\n",
       "      <td>0</td>\n",
       "      <td>0</td>\n",
       "      <td>1</td>\n",
       "      <td>1</td>\n",
       "      <td>1</td>\n",
       "      <td>...</td>\n",
       "      <td>0</td>\n",
       "      <td>0</td>\n",
       "      <td>0</td>\n",
       "      <td>0</td>\n",
       "      <td>0</td>\n",
       "      <td>0</td>\n",
       "      <td>0</td>\n",
       "      <td>0</td>\n",
       "      <td>0</td>\n",
       "      <td>0</td>\n",
       "    </tr>\n",
       "  </tbody>\n",
       "</table>\n",
       "<p>2 rows × 23 columns</p>\n",
       "</div>"
      ],
      "text/plain": [
       "   user_id  movie_id  rating  unix_timestamp  unknown  Action  Adventure  \\\n",
       "0        0         0       5       874965758        0       0          0   \n",
       "1        1         0       4       888550871        0       0          0   \n",
       "\n",
       "   Animation  Children_s  Comedy  ...  Fantasy  Film_Noir  Horror  Musical  \\\n",
       "0          1           1       1  ...        0          0       0        0   \n",
       "1          1           1       1  ...        0          0       0        0   \n",
       "\n",
       "   Mystery  Romance  Sci_Fi  Thriller  War  Western  \n",
       "0        0        0       0         0    0        0  \n",
       "1        0        0       0         0    0        0  \n",
       "\n",
       "[2 rows x 23 columns]"
      ]
     },
     "metadata": {},
     "output_type": "display_data"
    },
    {
     "data": {
      "text/html": [
       "<div>\n",
       "<style scoped>\n",
       "    .dataframe tbody tr th:only-of-type {\n",
       "        vertical-align: middle;\n",
       "    }\n",
       "\n",
       "    .dataframe tbody tr th {\n",
       "        vertical-align: top;\n",
       "    }\n",
       "\n",
       "    .dataframe thead th {\n",
       "        text-align: right;\n",
       "    }\n",
       "</style>\n",
       "<table border=\"1\" class=\"dataframe\">\n",
       "  <thead>\n",
       "    <tr style=\"text-align: right;\">\n",
       "      <th></th>\n",
       "      <th>user_id</th>\n",
       "      <th>movie_id</th>\n",
       "      <th>rating</th>\n",
       "      <th>unix_timestamp</th>\n",
       "      <th>unknown</th>\n",
       "      <th>Action</th>\n",
       "      <th>Adventure</th>\n",
       "      <th>Animation</th>\n",
       "      <th>Children_s</th>\n",
       "      <th>Comedy</th>\n",
       "      <th>...</th>\n",
       "      <th>Fantasy</th>\n",
       "      <th>Film_Noir</th>\n",
       "      <th>Horror</th>\n",
       "      <th>Musical</th>\n",
       "      <th>Mystery</th>\n",
       "      <th>Romance</th>\n",
       "      <th>Sci_Fi</th>\n",
       "      <th>Thriller</th>\n",
       "      <th>War</th>\n",
       "      <th>Western</th>\n",
       "    </tr>\n",
       "  </thead>\n",
       "  <tbody>\n",
       "    <tr>\n",
       "      <th>0</th>\n",
       "      <td>0</td>\n",
       "      <td>19</td>\n",
       "      <td>4</td>\n",
       "      <td>887431883</td>\n",
       "      <td>0</td>\n",
       "      <td>0</td>\n",
       "      <td>0</td>\n",
       "      <td>0</td>\n",
       "      <td>0</td>\n",
       "      <td>0</td>\n",
       "      <td>...</td>\n",
       "      <td>0</td>\n",
       "      <td>0</td>\n",
       "      <td>0</td>\n",
       "      <td>0</td>\n",
       "      <td>0</td>\n",
       "      <td>1</td>\n",
       "      <td>0</td>\n",
       "      <td>0</td>\n",
       "      <td>0</td>\n",
       "      <td>0</td>\n",
       "    </tr>\n",
       "    <tr>\n",
       "      <th>1</th>\n",
       "      <td>62</td>\n",
       "      <td>19</td>\n",
       "      <td>3</td>\n",
       "      <td>875748004</td>\n",
       "      <td>0</td>\n",
       "      <td>0</td>\n",
       "      <td>0</td>\n",
       "      <td>0</td>\n",
       "      <td>0</td>\n",
       "      <td>0</td>\n",
       "      <td>...</td>\n",
       "      <td>0</td>\n",
       "      <td>0</td>\n",
       "      <td>0</td>\n",
       "      <td>0</td>\n",
       "      <td>0</td>\n",
       "      <td>1</td>\n",
       "      <td>0</td>\n",
       "      <td>0</td>\n",
       "      <td>0</td>\n",
       "      <td>0</td>\n",
       "    </tr>\n",
       "  </tbody>\n",
       "</table>\n",
       "<p>2 rows × 23 columns</p>\n",
       "</div>"
      ],
      "text/plain": [
       "   user_id  movie_id  rating  unix_timestamp  unknown  Action  Adventure  \\\n",
       "0        0        19       4       887431883        0       0          0   \n",
       "1       62        19       3       875748004        0       0          0   \n",
       "\n",
       "   Animation  Children_s  Comedy  ...  Fantasy  Film_Noir  Horror  Musical  \\\n",
       "0          0           0       0  ...        0          0       0        0   \n",
       "1          0           0       0  ...        0          0       0        0   \n",
       "\n",
       "   Mystery  Romance  Sci_Fi  Thriller  War  Western  \n",
       "0        0        1       0         0    0        0  \n",
       "1        0        1       0         0    0        0  \n",
       "\n",
       "[2 rows x 23 columns]"
      ]
     },
     "metadata": {},
     "output_type": "display_data"
    }
   ],
   "source": [
    "train = ratings_base.merge(items, how='inner', left_on='movie_id', right_on='movie_id')\n",
    "test = ratings_test.merge(items, how='inner', left_on='movie_id', right_on='movie_id')\n",
    "display(train.head(2))\n",
    "display(test.head(2))"
   ]
  },
  {
   "cell_type": "markdown",
   "id": "623d23df-2916-495d-9b49-884c25b32138",
   "metadata": {},
   "source": [
    "## Making train set, test set for models"
   ]
  },
  {
   "cell_type": "code",
   "execution_count": 6,
   "id": "abaeb8f6-a36c-4206-baf2-fb0d172bd444",
   "metadata": {},
   "outputs": [],
   "source": [
    "train = train.sort_values(by=['user_id'], ascending=True)\n",
    "test = test.sort_values(by=['user_id'], ascending=True)\n",
    "group_train = list(train.groupby('user_id')['user_id'].count().values)\n",
    "group_test = list(test.groupby('user_id')['user_id'].count().values)\n",
    "X_train = train.drop(columns=['user_id', 'movie_id', 'rating', 'unix_timestamp']).values\n",
    "y_train = train['rating'].values\n",
    "X_test = test.drop(columns=['user_id', 'movie_id', 'rating', 'unix_timestamp']).values\n",
    "y_test = test['rating'].values"
   ]
  },
  {
   "cell_type": "code",
   "execution_count": null,
   "id": "e8c95caf",
   "metadata": {},
   "outputs": [],
   "source": []
  },
  {
   "cell_type": "markdown",
   "id": "ae6a2f6a-405d-446b-8bad-5ff55511e2f6",
   "metadata": {},
   "source": [
    "## Compute NDCG"
   ]
  },
  {
   "cell_type": "code",
   "execution_count": 8,
   "id": "b2742683-88a9-469f-9b6f-a2e8823c5d43",
   "metadata": {},
   "outputs": [],
   "source": [
    "def evaluate(model, x_test, group_test, y_test):\n",
    "    metric1 = tfr.keras.metrics.NDCGMetric(topn=1, ragged=True)\n",
    "    metric2 = tfr.keras.metrics.NDCGMetric(topn=5, ragged=True)\n",
    "    metric3 = tfr.keras.metrics.NDCGMetric(topn=10, ragged=True)\n",
    "    if hasattr(model, 'compute_score'):\n",
    "        y_pred = tf.squeeze(model.compute_score(x_test))\n",
    "        y_pred = tf.convert_to_tensor(y_pred)\n",
    "        y_pred = tf.RaggedTensor.from_row_lengths(y_pred, group_test)\n",
    "        y_test = tf.convert_to_tensor(y_test)\n",
    "        y_test = tf.RaggedTensor.from_row_lengths(y_test, group_test)\n",
    "    else:\n",
    "        y_pred = model.predict(x_test, group_test)\n",
    "        y_pred = tf.convert_to_tensor(y_pred)\n",
    "        y_pred = tf.RaggedTensor.from_row_lengths(y_pred, group_test)\n",
    "        y_test = tf.convert_to_tensor(y_test)\n",
    "        y_test = tf.RaggedTensor.from_row_lengths(y_test, group_test)\n",
    "    s1 = metric1(y_test, y_pred).numpy()\n",
    "    s2 = metric2(y_test, y_pred).numpy()\n",
    "    s3 = metric3(y_test, y_pred).numpy()\n",
    "    print(f\"NDCG@1: {s1:.4f}\")\n",
    "    print(f\"NDCG@5: {s2:.4f}\")\n",
    "    print(f\"NDCG@10: {s3:.4f}\")\n",
    "    return s1, s2, s3"
   ]
  },
  {
   "cell_type": "markdown",
   "id": "62ebb662-aa87-432b-a1b1-1437012bc2ad",
   "metadata": {},
   "source": [
    "# RankNet"
   ]
  },
  {
   "cell_type": "markdown",
   "id": "5d7f6c85-280c-4c29-82dc-f79f02ed68eb",
   "metadata": {},
   "source": [
    "## Making train set for RankNet"
   ]
  },
  {
   "cell_type": "code",
   "execution_count": 9,
   "id": "0e8c543b-7a67-47c7-be85-0d286aa0fcd1",
   "metadata": {},
   "outputs": [],
   "source": [
    "# Tao cac cap san pham\n",
    "xi = []  # San pham 1\n",
    "xj = []  # San pham 2\n",
    "pij = []  # So sanh giua sp 1 va sp 2, 0.5 neu danh gia bang nhau, 1 neu danh gia cua i > j, va 0 neu danh gia cua i < j\n",
    "pair_id = []    # Danh sach cac cap\n",
    "\n",
    "for user in train['user_id'].unique():\n",
    "    if len(train[train['user_id']==user]) > 1: \n",
    "        # Danh sach cac san pham da tuong tac voi user\n",
    "        query = train[train['user_id']==user]['movie_id'].values\n",
    "        query_idx = np.array([*range(len(query))])\n",
    "        # Cac dac trung cua nhung san pham nay\n",
    "        doc_features = train[train['movie_id'].isin(query)].drop(columns=['user_id', 'movie_id', 'unix_timestamp', 'rating']).values\n",
    "        # Danh gia tuong ung cua tung san pham nay\n",
    "        doc_scores = train[train['user_id']==user]['rating'].values\n",
    "\n",
    "        for pair_idx in combinations(query_idx, 2):\n",
    "            pair_id.append(pair_idx)\n",
    "            i = pair_idx[0]\n",
    "            j = pair_idx[1]\n",
    "            xi.append(doc_features[i])\n",
    "            xj.append(doc_features[j])\n",
    "            if doc_scores[i] == doc_scores[j]:\n",
    "                _pij = 0.5\n",
    "            elif doc_scores[i] > doc_scores[j]:\n",
    "                _pij = 1\n",
    "            else: \n",
    "                _pij = 0\n",
    "            pij.append(_pij)\n",
    "\n",
    "xi = np.array(xi)\n",
    "xj = np.array(xj)\n",
    "pij = np.array(pij)"
   ]
  },
  {
   "cell_type": "markdown",
   "id": "e2b97f86-0b49-45a5-a3ea-997d094d2d36",
   "metadata": {},
   "source": [
    "## RankNet architecture"
   ]
  },
  {
   "cell_type": "code",
   "execution_count": 10,
   "id": "468020eb-05a4-439f-8773-93cb94ec87d4",
   "metadata": {},
   "outputs": [],
   "source": [
    "class RankNet(keras.Model):\n",
    "    def __init__(self, hidden_dim1 = 16, hidden_dim2=8):\n",
    "        super().__init__()\n",
    "        self.dense  = keras.Sequential([\n",
    "            keras.layers.Dense(hidden_dim1, activation=leaky_relu),\n",
    "            keras.layers.Dense(hidden_dim2, activation=leaky_relu)\n",
    "        ])\n",
    "        self.o = keras.layers.Dense(1, activation='linear')\n",
    "        self.oi_minus_oj = keras.layers.Subtract()\n",
    "        self.sigmoid = keras.layers.Activation('sigmoid')\n",
    "    def call(self, inputs):\n",
    "        xi, xj = inputs\n",
    "        densei = self.dense(xi)\n",
    "        densej = self.dense(xj)\n",
    "        oi = self.o(densei)\n",
    "        oj = self.o(densej)\n",
    "        oij = self.oi_minus_oj([oi, oj])\n",
    "        output = self.sigmoid(oij)\n",
    "        return output\n",
    "    def build_graph(self):\n",
    "        x = [keras.Input(shape=(10)), keras.Input(shape=(10))]\n",
    "        return keras.Model(inputs=x, outputs=self.call(x))\n",
    "    def compute_score(self, inputs):\n",
    "        try:\n",
    "            self.tranable = False\n",
    "            dense = self.dense(inputs)\n",
    "            o = self.o(dense)\n",
    "            return o\n",
    "        finally:\n",
    "            self.trainable = True"
   ]
  },
  {
   "cell_type": "code",
   "execution_count": 11,
   "id": "6284b8fe-5896-40bd-963a-7067eb112cb2",
   "metadata": {},
   "outputs": [
    {
     "data": {
      "image/png": "[encoded data removed]",
      "text/plain": [
       "<IPython.core.display.Image object>"
      ]
     },
     "execution_count": 11,
     "metadata": {},
     "output_type": "execute_result"
    }
   ],
   "source": [
    "# visualize model architecture\n",
    "plot_model(RankNet().build_graph(), show_shapes=False)"
   ]
  },
  {
   "cell_type": "code",
   "execution_count": 12,
   "id": "489b9fe8-3bcf-4d21-9c5c-bcd8ba3ce7a1",
   "metadata": {},
   "outputs": [],
   "source": [
    "inputs = tf.data.Dataset.from_tensor_slices((xi, xj))\n",
    "target = tf.data.Dataset.from_tensor_slices(pij)\n",
    "train_dataset = tf.data.Dataset.zip((inputs, target))"
   ]
  },
  {
   "cell_type": "code",
   "execution_count": 13,
   "id": "8a592bc8-ca3f-42b3-9fe8-5682882666a3",
   "metadata": {},
   "outputs": [],
   "source": [
    "train_dataset = train_dataset.batch(512)"
   ]
  },
  {
   "cell_type": "code",
   "execution_count": 14,
   "id": "7f0c6f6a-7e0e-48f0-8b5a-95ac06107c7c",
   "metadata": {},
   "outputs": [
    {
     "name": "stdout",
     "output_type": "stream",
     "text": [
      "Epoch 1/50\n",
      "17778/17778 [==============================] - 24s 1ms/step - loss: 0.6930 - ndcg_metric: 0.6510 - ndcg_metric_1: 0.6510 - ndcg_metric_2: 0.6510\n",
      "Epoch 2/50\n",
      "17778/17778 [==============================] - 24s 1ms/step - loss: 0.6929 - ndcg_metric: 0.6510 - ndcg_metric_1: 0.6510 - ndcg_metric_2: 0.6510\n",
      "Epoch 3/50\n",
      "17778/17778 [==============================] - 22s 1ms/step - loss: 0.6929 - ndcg_metric: 0.6510 - ndcg_metric_1: 0.6510 - ndcg_metric_2: 0.6510\n",
      "Epoch 4/50\n",
      "17778/17778 [==============================] - 21s 1ms/step - loss: 0.6928 - ndcg_metric: 0.6510 - ndcg_metric_1: 0.6510 - ndcg_metric_2: 0.6510\n",
      "Epoch 5/50\n",
      "17778/17778 [==============================] - 21s 1ms/step - loss: 0.6928 - ndcg_metric: 0.6510 - ndcg_metric_1: 0.6510 - ndcg_metric_2: 0.6510\n",
      "Epoch 6/50\n",
      "17778/17778 [==============================] - 21s 1ms/step - loss: 0.6926 - ndcg_metric: 0.6510 - ndcg_metric_1: 0.6510 - ndcg_metric_2: 0.6510\n",
      "Epoch 7/50\n",
      "17778/17778 [==============================] - 23s 1ms/step - loss: 0.6928 - ndcg_metric: 0.6510 - ndcg_metric_1: 0.6510 - ndcg_metric_2: 0.6510\n",
      "Epoch 8/50\n",
      "17778/17778 [==============================] - 22s 1ms/step - loss: 0.6927 - ndcg_metric: 0.6510 - ndcg_metric_1: 0.6510 - ndcg_metric_2: 0.6510\n",
      "Epoch 9/50\n",
      "17778/17778 [==============================] - 24s 1ms/step - loss: 0.6927 - ndcg_metric: 0.6510 - ndcg_metric_1: 0.6510 - ndcg_metric_2: 0.6510\n"
     ]
    }
   ],
   "source": [
    "# train model using compile and fit\n",
    "ranknet = RankNet()\n",
    "earlystopping = keras.callbacks.EarlyStopping(monitor='loss', patience=3)\n",
    "model_checkpoint = keras.callbacks.ModelCheckpoint(\n",
    "    'ranknet_checkpoints/ranknet.h5',\n",
    "    save_weights_only=True,\n",
    "    monitor='loss',\n",
    "    mode='min',\n",
    "    save_best_only=True\n",
    ")\n",
    "ranknet.compile(optimizer='adam', loss='binary_crossentropy', \n",
    "                metrics=[\n",
    "                    tfr.keras.metrics.NDCGMetric(topn=1), \n",
    "                    tfr.keras.metrics.NDCGMetric(topn=5),\n",
    "                    tfr.keras.metrics.NDCGMetric(topn=10)],\n",
    "                )\n",
    "# history = ranknet.fit([xi, xj], pij, epochs=50, batch_size=512, callbacks=[earlystopping, model_checkpoint])\n",
    "history = ranknet.fit(x=train_dataset, epochs=50, callbacks=[earlystopping, model_checkpoint])"
   ]
  },
  {
   "cell_type": "code",
   "execution_count": 15,
   "id": "7751ee35-95bc-4f9e-8b2d-1540c76e3ae9",
   "metadata": {},
   "outputs": [
    {
     "name": "stdout",
     "output_type": "stream",
     "text": [
      "NDCG@1: 0.5030\n",
      "NDCG@5: 0.6339\n",
      "NDCG@10: 0.8135\n"
     ]
    },
    {
     "data": {
      "text/plain": [
       "(0.5029891, 0.6339169, 0.8134613)"
      ]
     },
     "execution_count": 15,
     "metadata": {},
     "output_type": "execute_result"
    }
   ],
   "source": [
    "evaluate(ranknet, X_test, group_test, y_test)"
   ]
  },
  {
   "cell_type": "markdown",
   "id": "2dc67454-0c6e-43a3-8846-184c91144641",
   "metadata": {},
   "source": [
    "# LambdaRANK with lightgbm"
   ]
  },
  {
   "cell_type": "code",
   "execution_count": 16,
   "id": "954555ef-039f-4722-b86e-57f39cddac66",
   "metadata": {},
   "outputs": [
    {
     "name": "stdout",
     "output_type": "stream",
     "text": [
      "[LightGBM] [Warning] early_stopping_round is set=20, early_stopping_rounds=20 will be ignored. Current value: early_stopping_round=20\n",
      "[LightGBM] [Info] Auto-choosing row-wise multi-threading, the overhead of testing was 0.004344 seconds.\n",
      "You can set `force_row_wise=true` to remove the overhead.\n",
      "And if memory is not enough, you can set `force_col_wise=true`.\n",
      "[LightGBM] [Info] Total Bins 36\n",
      "[LightGBM] [Info] Number of data points in the train set: 90570, number of used features: 18\n",
      "[LightGBM] [Warning] early_stopping_round is set=20, early_stopping_rounds=20 will be ignored. Current value: early_stopping_round=20\n",
      "Training until validation scores don't improve for 20 rounds\n",
      "Early stopping, best iteration is:\n",
      "[30]\tvalid_0's ndcg@1: 0.666875\tvalid_0's ndcg@5: 0.72672\tvalid_0's ndcg@10: 0.865298\n"
     ]
    },
    {
     "data": {
      "text/html": [
       "<style>#sk-container-id-1 {color: black;}#sk-container-id-1 pre{padding: 0;}#sk-container-id-1 div.sk-toggleable {background-color: white;}#sk-container-id-1 label.sk-toggleable__label {cursor: pointer;display: block;width: 100%;margin-bottom: 0;padding: 0.3em;box-sizing: border-box;text-align: center;}#sk-container-id-1 label.sk-toggleable__label-arrow:before {content: \"▸\";float: left;margin-right: 0.25em;color: #696969;}#sk-container-id-1 label.sk-toggleable__label-arrow:hover:before {color: black;}#sk-container-id-1 div.sk-estimator:hover label.sk-toggleable__label-arrow:before {color: black;}#sk-container-id-1 div.sk-toggleable__content {max-height: 0;max-width: 0;overflow: hidden;text-align: left;background-color: #f0f8ff;}#sk-container-id-1 div.sk-toggleable__content pre {margin: 0.2em;color: black;border-radius: 0.25em;background-color: #f0f8ff;}#sk-container-id-1 input.sk-toggleable__control:checked~div.sk-toggleable__content {max-height: 200px;max-width: 100%;overflow: auto;}#sk-container-id-1 input.sk-toggleable__control:checked~label.sk-toggleable__label-arrow:before {content: \"▾\";}#sk-container-id-1 div.sk-estimator input.sk-toggleable__control:checked~label.sk-toggleable__label {background-color: #d4ebff;}#sk-container-id-1 div.sk-label input.sk-toggleable__control:checked~label.sk-toggleable__label {background-color: #d4ebff;}#sk-container-id-1 input.sk-hidden--visually {border: 0;clip: rect(1px 1px 1px 1px);clip: rect(1px, 1px, 1px, 1px);height: 1px;margin: -1px;overflow: hidden;padding: 0;position: absolute;width: 1px;}#sk-container-id-1 div.sk-estimator {font-family: monospace;background-color: #f0f8ff;border: 1px dotted black;border-radius: 0.25em;box-sizing: border-box;margin-bottom: 0.5em;}#sk-container-id-1 div.sk-estimator:hover {background-color: #d4ebff;}#sk-container-id-1 div.sk-parallel-item::after {content: \"\";width: 100%;border-bottom: 1px solid gray;flex-grow: 1;}#sk-container-id-1 div.sk-label:hover label.sk-toggleable__label {background-color: #d4ebff;}#sk-container-id-1 div.sk-serial::before {content: \"\";position: absolute;border-left: 1px solid gray;box-sizing: border-box;top: 0;bottom: 0;left: 50%;z-index: 0;}#sk-container-id-1 div.sk-serial {display: flex;flex-direction: column;align-items: center;background-color: white;padding-right: 0.2em;padding-left: 0.2em;position: relative;}#sk-container-id-1 div.sk-item {position: relative;z-index: 1;}#sk-container-id-1 div.sk-parallel {display: flex;align-items: stretch;justify-content: center;background-color: white;position: relative;}#sk-container-id-1 div.sk-item::before, #sk-container-id-1 div.sk-parallel-item::before {content: \"\";position: absolute;border-left: 1px solid gray;box-sizing: border-box;top: 0;bottom: 0;left: 50%;z-index: -1;}#sk-container-id-1 div.sk-parallel-item {display: flex;flex-direction: column;z-index: 1;position: relative;background-color: white;}#sk-container-id-1 div.sk-parallel-item:first-child::after {align-self: flex-end;width: 50%;}#sk-container-id-1 div.sk-parallel-item:last-child::after {align-self: flex-start;width: 50%;}#sk-container-id-1 div.sk-parallel-item:only-child::after {width: 0;}#sk-container-id-1 div.sk-dashed-wrapped {border: 1px dashed gray;margin: 0 0.4em 0.5em 0.4em;box-sizing: border-box;padding-bottom: 0.4em;background-color: white;}#sk-container-id-1 div.sk-label label {font-family: monospace;font-weight: bold;display: inline-block;line-height: 1.2em;}#sk-container-id-1 div.sk-label-container {text-align: center;}#sk-container-id-1 div.sk-container {/* jupyter's `normalize.less` sets `[hidden] { display: none; }` but bootstrap.min.css set `[hidden] { display: none !important; }` so we also need the `!important` here to be able to override the default hidden behavior on the sphinx rendered scikit-learn.org. See: https://github.com/scikit-learn/scikit-learn/issues/21755 */display: inline-block !important;position: relative;}#sk-container-id-1 div.sk-text-repr-fallback {display: none;}</style><div id=\"sk-container-id-1\" class=\"sk-top-container\"><div class=\"sk-text-repr-fallback\"><pre>LGBMRanker(early_stopping_rounds=20, verbose=1)</pre><b>In a Jupyter environment, please rerun this cell to show the HTML representation or trust the notebook. <br />On GitHub, the HTML representation is unable to render, please try loading this page with nbviewer.org.</b></div><div class=\"sk-container\" hidden><div class=\"sk-item\"><div class=\"sk-estimator sk-toggleable\"><input class=\"sk-toggleable__control sk-hidden--visually\" id=\"sk-estimator-id-1\" type=\"checkbox\" checked><label for=\"sk-estimator-id-1\" class=\"sk-toggleable__label sk-toggleable__label-arrow\">LGBMRanker</label><div class=\"sk-toggleable__content\"><pre>LGBMRanker(early_stopping_rounds=20, verbose=1)</pre></div></div></div></div></div>"
      ],
      "text/plain": [
       "LGBMRanker(early_stopping_rounds=20, verbose=1)"
      ]
     },
     "execution_count": 16,
     "metadata": {},
     "output_type": "execute_result"
    }
   ],
   "source": [
    "import lightgbm as lgb\n",
    "\n",
    "gbm = lgb.LGBMRanker(early_stopping_rounds=20, verbose=1)\n",
    "\n",
    "gbm.fit(X_train, y_train, group=group_train,\n",
    "        eval_set=[(X_test, y_test)], eval_group=[group_test],\n",
    "        eval_at=[1,5,10])"
   ]
  },
  {
   "cell_type": "code",
   "execution_count": 17,
   "id": "4e0f940e-8fe3-4925-83a5-5a1b34342332",
   "metadata": {},
   "outputs": [
    {
     "name": "stdout",
     "output_type": "stream",
     "text": [
      "NDCG@1: 0.6742\n",
      "NDCG@5: 0.7272\n",
      "NDCG@10: 0.8650\n"
     ]
    },
    {
     "data": {
      "text/plain": [
       "(0.6742281, 0.7272175, 0.8649508)"
      ]
     },
     "execution_count": 17,
     "metadata": {},
     "output_type": "execute_result"
    }
   ],
   "source": [
    "evaluate(gbm, X_test, group_test, y_test)"
   ]
  },
  {
   "cell_type": "code",
   "execution_count": 20,
   "id": "87b62bde-c3b6-4ca4-b71d-886a5a1361d4",
   "metadata": {},
   "outputs": [],
   "source": [
    "import pickle\n",
    "with open('lightgbm_checkpoints/lightgbm_lambdarank.h5', 'wb') as f:\n",
    "    pickle.dump(gbm, f)"
   ]
  },
  {
   "cell_type": "markdown",
   "id": "843b2d7e-5001-4a4c-94e0-85c924aa1d98",
   "metadata": {},
   "source": [
    "# LambdaMART with xgboost"
   ]
  },
  {
   "cell_type": "markdown",
   "id": "798cc9f5-cfb7-419b-a673-d62b47e52af2",
   "metadata": {},
   "source": [
    "## Pairwise lambdaMART"
   ]
  },
  {
   "cell_type": "code",
   "execution_count": 22,
   "id": "ab30c642-9172-42ea-9812-ea81f4033eac",
   "metadata": {},
   "outputs": [
    {
     "name": "stdout",
     "output_type": "stream",
     "text": [
      "[0]\tvalidation_0-ndcg@1:0.61646\tvalidation_0-ndcg@5:0.70004\tvalidation_0-ndcg@10:0.84900\n",
      "[1]\tvalidation_0-ndcg@1:0.62148\tvalidation_0-ndcg@5:0.70276\tvalidation_0-ndcg@10:0.85137\n",
      "[2]\tvalidation_0-ndcg@1:0.62066\tvalidation_0-ndcg@5:0.70713\tvalidation_0-ndcg@10:0.85264\n",
      "[3]\tvalidation_0-ndcg@1:0.62068\tvalidation_0-ndcg@5:0.70526\tvalidation_0-ndcg@10:0.85222\n",
      "[4]\tvalidation_0-ndcg@1:0.62495\tvalidation_0-ndcg@5:0.70659\tvalidation_0-ndcg@10:0.85325\n",
      "[5]\tvalidation_0-ndcg@1:0.62747\tvalidation_0-ndcg@5:0.70899\tvalidation_0-ndcg@10:0.85410\n",
      "[6]\tvalidation_0-ndcg@1:0.63482\tvalidation_0-ndcg@5:0.71235\tvalidation_0-ndcg@10:0.85597\n",
      "[7]\tvalidation_0-ndcg@1:0.63154\tvalidation_0-ndcg@5:0.71142\tvalidation_0-ndcg@10:0.85559\n",
      "[8]\tvalidation_0-ndcg@1:0.63443\tvalidation_0-ndcg@5:0.71255\tvalidation_0-ndcg@10:0.85622\n",
      "[9]\tvalidation_0-ndcg@1:0.63468\tvalidation_0-ndcg@5:0.71458\tvalidation_0-ndcg@10:0.85694\n",
      "[10]\tvalidation_0-ndcg@1:0.63662\tvalidation_0-ndcg@5:0.71526\tvalidation_0-ndcg@10:0.85726\n",
      "[11]\tvalidation_0-ndcg@1:0.63702\tvalidation_0-ndcg@5:0.71552\tvalidation_0-ndcg@10:0.85730\n",
      "[12]\tvalidation_0-ndcg@1:0.63832\tvalidation_0-ndcg@5:0.71586\tvalidation_0-ndcg@10:0.85768\n",
      "[13]\tvalidation_0-ndcg@1:0.64152\tvalidation_0-ndcg@5:0.71620\tvalidation_0-ndcg@10:0.85805\n",
      "[14]\tvalidation_0-ndcg@1:0.64246\tvalidation_0-ndcg@5:0.71652\tvalidation_0-ndcg@10:0.85853\n",
      "[15]\tvalidation_0-ndcg@1:0.64185\tvalidation_0-ndcg@5:0.71584\tvalidation_0-ndcg@10:0.85849\n",
      "[16]\tvalidation_0-ndcg@1:0.64039\tvalidation_0-ndcg@5:0.71635\tvalidation_0-ndcg@10:0.85843\n",
      "[17]\tvalidation_0-ndcg@1:0.64259\tvalidation_0-ndcg@5:0.71692\tvalidation_0-ndcg@10:0.85883\n",
      "[18]\tvalidation_0-ndcg@1:0.64383\tvalidation_0-ndcg@5:0.71712\tvalidation_0-ndcg@10:0.85903\n",
      "[19]\tvalidation_0-ndcg@1:0.64268\tvalidation_0-ndcg@5:0.71648\tvalidation_0-ndcg@10:0.85880\n",
      "[20]\tvalidation_0-ndcg@1:0.64407\tvalidation_0-ndcg@5:0.71624\tvalidation_0-ndcg@10:0.85877\n",
      "[21]\tvalidation_0-ndcg@1:0.64241\tvalidation_0-ndcg@5:0.71698\tvalidation_0-ndcg@10:0.85885\n",
      "[22]\tvalidation_0-ndcg@1:0.64311\tvalidation_0-ndcg@5:0.71729\tvalidation_0-ndcg@10:0.85904\n",
      "[23]\tvalidation_0-ndcg@1:0.64232\tvalidation_0-ndcg@5:0.71653\tvalidation_0-ndcg@10:0.85913\n",
      "[24]\tvalidation_0-ndcg@1:0.64288\tvalidation_0-ndcg@5:0.71675\tvalidation_0-ndcg@10:0.85913\n",
      "[25]\tvalidation_0-ndcg@1:0.64274\tvalidation_0-ndcg@5:0.71697\tvalidation_0-ndcg@10:0.85916\n",
      "[26]\tvalidation_0-ndcg@1:0.64286\tvalidation_0-ndcg@5:0.71759\tvalidation_0-ndcg@10:0.85930\n",
      "[27]\tvalidation_0-ndcg@1:0.64375\tvalidation_0-ndcg@5:0.71793\tvalidation_0-ndcg@10:0.85925\n",
      "[28]\tvalidation_0-ndcg@1:0.64409\tvalidation_0-ndcg@5:0.71793\tvalidation_0-ndcg@10:0.85921\n",
      "[29]\tvalidation_0-ndcg@1:0.64400\tvalidation_0-ndcg@5:0.71802\tvalidation_0-ndcg@10:0.85932\n",
      "[30]\tvalidation_0-ndcg@1:0.64197\tvalidation_0-ndcg@5:0.71770\tvalidation_0-ndcg@10:0.85903\n",
      "[31]\tvalidation_0-ndcg@1:0.64437\tvalidation_0-ndcg@5:0.71823\tvalidation_0-ndcg@10:0.85926\n",
      "[32]\tvalidation_0-ndcg@1:0.64334\tvalidation_0-ndcg@5:0.71742\tvalidation_0-ndcg@10:0.85907\n",
      "[33]\tvalidation_0-ndcg@1:0.64249\tvalidation_0-ndcg@5:0.71819\tvalidation_0-ndcg@10:0.85910\n",
      "[34]\tvalidation_0-ndcg@1:0.64344\tvalidation_0-ndcg@5:0.71861\tvalidation_0-ndcg@10:0.85946\n",
      "[35]\tvalidation_0-ndcg@1:0.64303\tvalidation_0-ndcg@5:0.71856\tvalidation_0-ndcg@10:0.85936\n",
      "[36]\tvalidation_0-ndcg@1:0.64212\tvalidation_0-ndcg@5:0.71884\tvalidation_0-ndcg@10:0.85937\n",
      "[37]\tvalidation_0-ndcg@1:0.64130\tvalidation_0-ndcg@5:0.71941\tvalidation_0-ndcg@10:0.85925\n",
      "[38]\tvalidation_0-ndcg@1:0.64212\tvalidation_0-ndcg@5:0.71923\tvalidation_0-ndcg@10:0.85945\n",
      "[39]\tvalidation_0-ndcg@1:0.64187\tvalidation_0-ndcg@5:0.71851\tvalidation_0-ndcg@10:0.85917\n",
      "[40]\tvalidation_0-ndcg@1:0.64187\tvalidation_0-ndcg@5:0.71896\tvalidation_0-ndcg@10:0.85913\n",
      "[41]\tvalidation_0-ndcg@1:0.64269\tvalidation_0-ndcg@5:0.71916\tvalidation_0-ndcg@10:0.85933\n",
      "[42]\tvalidation_0-ndcg@1:0.63975\tvalidation_0-ndcg@5:0.71884\tvalidation_0-ndcg@10:0.85920\n",
      "[43]\tvalidation_0-ndcg@1:0.64166\tvalidation_0-ndcg@5:0.71956\tvalidation_0-ndcg@10:0.85939\n",
      "[44]\tvalidation_0-ndcg@1:0.64057\tvalidation_0-ndcg@5:0.71884\tvalidation_0-ndcg@10:0.85933\n",
      "[45]\tvalidation_0-ndcg@1:0.64050\tvalidation_0-ndcg@5:0.71924\tvalidation_0-ndcg@10:0.85939\n",
      "[46]\tvalidation_0-ndcg@1:0.63797\tvalidation_0-ndcg@5:0.71886\tvalidation_0-ndcg@10:0.85889\n",
      "[47]\tvalidation_0-ndcg@1:0.63824\tvalidation_0-ndcg@5:0.71889\tvalidation_0-ndcg@10:0.85909\n",
      "[48]\tvalidation_0-ndcg@1:0.63920\tvalidation_0-ndcg@5:0.71913\tvalidation_0-ndcg@10:0.85923\n",
      "[49]\tvalidation_0-ndcg@1:0.63838\tvalidation_0-ndcg@5:0.71930\tvalidation_0-ndcg@10:0.85928\n",
      "[50]\tvalidation_0-ndcg@1:0.63716\tvalidation_0-ndcg@5:0.71951\tvalidation_0-ndcg@10:0.85921\n",
      "[51]\tvalidation_0-ndcg@1:0.64050\tvalidation_0-ndcg@5:0.72014\tvalidation_0-ndcg@10:0.85988\n",
      "[52]\tvalidation_0-ndcg@1:0.64159\tvalidation_0-ndcg@5:0.72063\tvalidation_0-ndcg@10:0.86007\n",
      "[53]\tvalidation_0-ndcg@1:0.64327\tvalidation_0-ndcg@5:0.72035\tvalidation_0-ndcg@10:0.86026\n",
      "[54]\tvalidation_0-ndcg@1:0.64248\tvalidation_0-ndcg@5:0.71999\tvalidation_0-ndcg@10:0.86004\n",
      "[55]\tvalidation_0-ndcg@1:0.64289\tvalidation_0-ndcg@5:0.72025\tvalidation_0-ndcg@10:0.86015\n",
      "[56]\tvalidation_0-ndcg@1:0.64412\tvalidation_0-ndcg@5:0.71991\tvalidation_0-ndcg@10:0.86034\n",
      "[57]\tvalidation_0-ndcg@1:0.64412\tvalidation_0-ndcg@5:0.71957\tvalidation_0-ndcg@10:0.86034\n",
      "[58]\tvalidation_0-ndcg@1:0.64506\tvalidation_0-ndcg@5:0.72050\tvalidation_0-ndcg@10:0.86040\n",
      "[59]\tvalidation_0-ndcg@1:0.64453\tvalidation_0-ndcg@5:0.72040\tvalidation_0-ndcg@10:0.86034\n",
      "[60]\tvalidation_0-ndcg@1:0.64452\tvalidation_0-ndcg@5:0.72069\tvalidation_0-ndcg@10:0.86049\n",
      "[61]\tvalidation_0-ndcg@1:0.64452\tvalidation_0-ndcg@5:0.72072\tvalidation_0-ndcg@10:0.86053\n",
      "[62]\tvalidation_0-ndcg@1:0.64534\tvalidation_0-ndcg@5:0.72075\tvalidation_0-ndcg@10:0.86063\n",
      "[63]\tvalidation_0-ndcg@1:0.64534\tvalidation_0-ndcg@5:0.72077\tvalidation_0-ndcg@10:0.86058\n",
      "[64]\tvalidation_0-ndcg@1:0.64604\tvalidation_0-ndcg@5:0.72081\tvalidation_0-ndcg@10:0.86068\n",
      "[65]\tvalidation_0-ndcg@1:0.64550\tvalidation_0-ndcg@5:0.72103\tvalidation_0-ndcg@10:0.86071\n",
      "[66]\tvalidation_0-ndcg@1:0.64493\tvalidation_0-ndcg@5:0.72063\tvalidation_0-ndcg@10:0.86063\n",
      "[67]\tvalidation_0-ndcg@1:0.64576\tvalidation_0-ndcg@5:0.72095\tvalidation_0-ndcg@10:0.86090\n",
      "[68]\tvalidation_0-ndcg@1:0.64576\tvalidation_0-ndcg@5:0.72161\tvalidation_0-ndcg@10:0.86102\n",
      "[69]\tvalidation_0-ndcg@1:0.64466\tvalidation_0-ndcg@5:0.72084\tvalidation_0-ndcg@10:0.86069\n",
      "[70]\tvalidation_0-ndcg@1:0.64411\tvalidation_0-ndcg@5:0.72106\tvalidation_0-ndcg@10:0.86059\n",
      "[71]\tvalidation_0-ndcg@1:0.64399\tvalidation_0-ndcg@5:0.72097\tvalidation_0-ndcg@10:0.86060\n",
      "[72]\tvalidation_0-ndcg@1:0.64610\tvalidation_0-ndcg@5:0.72117\tvalidation_0-ndcg@10:0.86089\n",
      "[73]\tvalidation_0-ndcg@1:0.64507\tvalidation_0-ndcg@5:0.72178\tvalidation_0-ndcg@10:0.86092\n",
      "[74]\tvalidation_0-ndcg@1:0.64562\tvalidation_0-ndcg@5:0.72154\tvalidation_0-ndcg@10:0.86111\n",
      "[75]\tvalidation_0-ndcg@1:0.64453\tvalidation_0-ndcg@5:0.72123\tvalidation_0-ndcg@10:0.86095\n",
      "[76]\tvalidation_0-ndcg@1:0.64583\tvalidation_0-ndcg@5:0.72164\tvalidation_0-ndcg@10:0.86105\n",
      "[77]\tvalidation_0-ndcg@1:0.64556\tvalidation_0-ndcg@5:0.72242\tvalidation_0-ndcg@10:0.86122\n",
      "[78]\tvalidation_0-ndcg@1:0.64501\tvalidation_0-ndcg@5:0.72160\tvalidation_0-ndcg@10:0.86105\n",
      "[79]\tvalidation_0-ndcg@1:0.64501\tvalidation_0-ndcg@5:0.72193\tvalidation_0-ndcg@10:0.86110\n",
      "[80]\tvalidation_0-ndcg@1:0.64751\tvalidation_0-ndcg@5:0.72187\tvalidation_0-ndcg@10:0.86148\n",
      "[81]\tvalidation_0-ndcg@1:0.64751\tvalidation_0-ndcg@5:0.72256\tvalidation_0-ndcg@10:0.86157\n",
      "[82]\tvalidation_0-ndcg@1:0.64916\tvalidation_0-ndcg@5:0.72330\tvalidation_0-ndcg@10:0.86210\n",
      "[83]\tvalidation_0-ndcg@1:0.64916\tvalidation_0-ndcg@5:0.72332\tvalidation_0-ndcg@10:0.86209\n",
      "[84]\tvalidation_0-ndcg@1:0.64847\tvalidation_0-ndcg@5:0.72305\tvalidation_0-ndcg@10:0.86193\n",
      "[85]\tvalidation_0-ndcg@1:0.64916\tvalidation_0-ndcg@5:0.72293\tvalidation_0-ndcg@10:0.86210\n",
      "[86]\tvalidation_0-ndcg@1:0.64916\tvalidation_0-ndcg@5:0.72304\tvalidation_0-ndcg@10:0.86220\n",
      "[87]\tvalidation_0-ndcg@1:0.64805\tvalidation_0-ndcg@5:0.72257\tvalidation_0-ndcg@10:0.86192\n",
      "[88]\tvalidation_0-ndcg@1:0.64859\tvalidation_0-ndcg@5:0.72265\tvalidation_0-ndcg@10:0.86194\n",
      "[89]\tvalidation_0-ndcg@1:0.64942\tvalidation_0-ndcg@5:0.72302\tvalidation_0-ndcg@10:0.86212\n",
      "[90]\tvalidation_0-ndcg@1:0.64847\tvalidation_0-ndcg@5:0.72243\tvalidation_0-ndcg@10:0.86190\n",
      "[91]\tvalidation_0-ndcg@1:0.64792\tvalidation_0-ndcg@5:0.72266\tvalidation_0-ndcg@10:0.86186\n",
      "[92]\tvalidation_0-ndcg@1:0.64944\tvalidation_0-ndcg@5:0.72294\tvalidation_0-ndcg@10:0.86203\n",
      "[93]\tvalidation_0-ndcg@1:0.64889\tvalidation_0-ndcg@5:0.72255\tvalidation_0-ndcg@10:0.86179\n",
      "[94]\tvalidation_0-ndcg@1:0.64861\tvalidation_0-ndcg@5:0.72248\tvalidation_0-ndcg@10:0.86169\n",
      "[95]\tvalidation_0-ndcg@1:0.64861\tvalidation_0-ndcg@5:0.72244\tvalidation_0-ndcg@10:0.86172\n",
      "[96]\tvalidation_0-ndcg@1:0.64889\tvalidation_0-ndcg@5:0.72292\tvalidation_0-ndcg@10:0.86181\n",
      "[97]\tvalidation_0-ndcg@1:0.64944\tvalidation_0-ndcg@5:0.72292\tvalidation_0-ndcg@10:0.86191\n",
      "[98]\tvalidation_0-ndcg@1:0.64862\tvalidation_0-ndcg@5:0.72228\tvalidation_0-ndcg@10:0.86171\n",
      "[99]\tvalidation_0-ndcg@1:0.64968\tvalidation_0-ndcg@5:0.72239\tvalidation_0-ndcg@10:0.86183\n"
     ]
    },
    {
     "data": {
      "text/html": [
       "<style>#sk-container-id-3 {color: black;}#sk-container-id-3 pre{padding: 0;}#sk-container-id-3 div.sk-toggleable {background-color: white;}#sk-container-id-3 label.sk-toggleable__label {cursor: pointer;display: block;width: 100%;margin-bottom: 0;padding: 0.3em;box-sizing: border-box;text-align: center;}#sk-container-id-3 label.sk-toggleable__label-arrow:before {content: \"▸\";float: left;margin-right: 0.25em;color: #696969;}#sk-container-id-3 label.sk-toggleable__label-arrow:hover:before {color: black;}#sk-container-id-3 div.sk-estimator:hover label.sk-toggleable__label-arrow:before {color: black;}#sk-container-id-3 div.sk-toggleable__content {max-height: 0;max-width: 0;overflow: hidden;text-align: left;background-color: #f0f8ff;}#sk-container-id-3 div.sk-toggleable__content pre {margin: 0.2em;color: black;border-radius: 0.25em;background-color: #f0f8ff;}#sk-container-id-3 input.sk-toggleable__control:checked~div.sk-toggleable__content {max-height: 200px;max-width: 100%;overflow: auto;}#sk-container-id-3 input.sk-toggleable__control:checked~label.sk-toggleable__label-arrow:before {content: \"▾\";}#sk-container-id-3 div.sk-estimator input.sk-toggleable__control:checked~label.sk-toggleable__label {background-color: #d4ebff;}#sk-container-id-3 div.sk-label input.sk-toggleable__control:checked~label.sk-toggleable__label {background-color: #d4ebff;}#sk-container-id-3 input.sk-hidden--visually {border: 0;clip: rect(1px 1px 1px 1px);clip: rect(1px, 1px, 1px, 1px);height: 1px;margin: -1px;overflow: hidden;padding: 0;position: absolute;width: 1px;}#sk-container-id-3 div.sk-estimator {font-family: monospace;background-color: #f0f8ff;border: 1px dotted black;border-radius: 0.25em;box-sizing: border-box;margin-bottom: 0.5em;}#sk-container-id-3 div.sk-estimator:hover {background-color: #d4ebff;}#sk-container-id-3 div.sk-parallel-item::after {content: \"\";width: 100%;border-bottom: 1px solid gray;flex-grow: 1;}#sk-container-id-3 div.sk-label:hover label.sk-toggleable__label {background-color: #d4ebff;}#sk-container-id-3 div.sk-serial::before {content: \"\";position: absolute;border-left: 1px solid gray;box-sizing: border-box;top: 0;bottom: 0;left: 50%;z-index: 0;}#sk-container-id-3 div.sk-serial {display: flex;flex-direction: column;align-items: center;background-color: white;padding-right: 0.2em;padding-left: 0.2em;position: relative;}#sk-container-id-3 div.sk-item {position: relative;z-index: 1;}#sk-container-id-3 div.sk-parallel {display: flex;align-items: stretch;justify-content: center;background-color: white;position: relative;}#sk-container-id-3 div.sk-item::before, #sk-container-id-3 div.sk-parallel-item::before {content: \"\";position: absolute;border-left: 1px solid gray;box-sizing: border-box;top: 0;bottom: 0;left: 50%;z-index: -1;}#sk-container-id-3 div.sk-parallel-item {display: flex;flex-direction: column;z-index: 1;position: relative;background-color: white;}#sk-container-id-3 div.sk-parallel-item:first-child::after {align-self: flex-end;width: 50%;}#sk-container-id-3 div.sk-parallel-item:last-child::after {align-self: flex-start;width: 50%;}#sk-container-id-3 div.sk-parallel-item:only-child::after {width: 0;}#sk-container-id-3 div.sk-dashed-wrapped {border: 1px dashed gray;margin: 0 0.4em 0.5em 0.4em;box-sizing: border-box;padding-bottom: 0.4em;background-color: white;}#sk-container-id-3 div.sk-label label {font-family: monospace;font-weight: bold;display: inline-block;line-height: 1.2em;}#sk-container-id-3 div.sk-label-container {text-align: center;}#sk-container-id-3 div.sk-container {/* jupyter's `normalize.less` sets `[hidden] { display: none; }` but bootstrap.min.css set `[hidden] { display: none !important; }` so we also need the `!important` here to be able to override the default hidden behavior on the sphinx rendered scikit-learn.org. See: https://github.com/scikit-learn/scikit-learn/issues/21755 */display: inline-block !important;position: relative;}#sk-container-id-3 div.sk-text-repr-fallback {display: none;}</style><div id=\"sk-container-id-3\" class=\"sk-top-container\"><div class=\"sk-text-repr-fallback\"><pre>XGBRanker(base_score=None, booster=None, callbacks=None, colsample_bylevel=None,\n",
       "          colsample_bynode=None, colsample_bytree=None, device=None,\n",
       "          early_stopping_rounds=None, enable_categorical=False,\n",
       "          eval_metric=None, feature_types=None, gamma=None, grow_policy=None,\n",
       "          importance_type=None, interaction_constraints=None,\n",
       "          learning_rate=None, max_bin=None, max_cat_threshold=None,\n",
       "          max_cat_to_onehot=None, max_delta_step=None, max_depth=5,\n",
       "          max_leaves=10, min_child_weight=None, missing=nan,\n",
       "          monotone_constraints=None, multi_strategy=None, n_estimators=100,\n",
       "          n_jobs=None, num_parallel_tree=None, objective=&#x27;rank:pairwise&#x27;, ...)</pre><b>In a Jupyter environment, please rerun this cell to show the HTML representation or trust the notebook. <br />On GitHub, the HTML representation is unable to render, please try loading this page with nbviewer.org.</b></div><div class=\"sk-container\" hidden><div class=\"sk-item\"><div class=\"sk-estimator sk-toggleable\"><input class=\"sk-toggleable__control sk-hidden--visually\" id=\"sk-estimator-id-3\" type=\"checkbox\" checked><label for=\"sk-estimator-id-3\" class=\"sk-toggleable__label sk-toggleable__label-arrow\">XGBRanker</label><div class=\"sk-toggleable__content\"><pre>XGBRanker(base_score=None, booster=None, callbacks=None, colsample_bylevel=None,\n",
       "          colsample_bynode=None, colsample_bytree=None, device=None,\n",
       "          early_stopping_rounds=None, enable_categorical=False,\n",
       "          eval_metric=None, feature_types=None, gamma=None, grow_policy=None,\n",
       "          importance_type=None, interaction_constraints=None,\n",
       "          learning_rate=None, max_bin=None, max_cat_threshold=None,\n",
       "          max_cat_to_onehot=None, max_delta_step=None, max_depth=5,\n",
       "          max_leaves=10, min_child_weight=None, missing=nan,\n",
       "          monotone_constraints=None, multi_strategy=None, n_estimators=100,\n",
       "          n_jobs=None, num_parallel_tree=None, objective=&#x27;rank:pairwise&#x27;, ...)</pre></div></div></div></div></div>"
      ],
      "text/plain": [
       "XGBRanker(base_score=None, booster=None, callbacks=None, colsample_bylevel=None,\n",
       "          colsample_bynode=None, colsample_bytree=None, device=None,\n",
       "          early_stopping_rounds=None, enable_categorical=False,\n",
       "          eval_metric=None, feature_types=None, gamma=None, grow_policy=None,\n",
       "          importance_type=None, interaction_constraints=None,\n",
       "          learning_rate=None, max_bin=None, max_cat_threshold=None,\n",
       "          max_cat_to_onehot=None, max_delta_step=None, max_depth=5,\n",
       "          max_leaves=10, min_child_weight=None, missing=nan,\n",
       "          monotone_constraints=None, multi_strategy=None, n_estimators=100,\n",
       "          n_jobs=None, num_parallel_tree=None, objective='rank:pairwise', ...)"
      ]
     },
     "execution_count": 22,
     "metadata": {},
     "output_type": "execute_result"
    }
   ],
   "source": [
    "import xgboost\n",
    "training_params = {'max_depth': 5, 'max_leaves': 10, 'objective': 'rank:pairwise', 'n_estimators':100}\n",
    "xgboost_lambdamart_pairwise = xgboost.XGBRanker(**training_params)\n",
    "xgboost_lambdamart_pairwise.fit(\n",
    "    X_train, y_train, group_train, verbose=True, eval_set=[(X_test, y_test)], \n",
    "    eval_group=[group_test], eval_metric = ['ndcg@1', 'ndcg@5', 'ndcg@10'],\n",
    ")"
   ]
  },
  {
   "cell_type": "code",
   "execution_count": 23,
   "id": "20debbe8-a847-4006-84e0-d4903a7ad769",
   "metadata": {},
   "outputs": [
    {
     "name": "stdout",
     "output_type": "stream",
     "text": [
      "NDCG@1: 0.6531\n",
      "NDCG@5: 0.7234\n",
      "NDCG@10: 0.8622\n"
     ]
    },
    {
     "data": {
      "text/plain": [
       "(0.65306866, 0.7233621, 0.8622396)"
      ]
     },
     "execution_count": 23,
     "metadata": {},
     "output_type": "execute_result"
    }
   ],
   "source": [
    "evaluate(xgboost_lambdamart_pairwise, X_test, group_test, y_test)"
   ]
  },
  {
   "cell_type": "code",
   "execution_count": 26,
   "id": "72f66060-49fd-4129-8c8b-22d0638b2684",
   "metadata": {},
   "outputs": [],
   "source": [
    "import pickle\n",
    "with open('xgboost_checkpoints/xgboost_lambdamart_pairwise.h5', 'wb') as f:\n",
    "    pickle.dump(xgboost_lambdamart_pairwise, f)"
   ]
  },
  {
   "cell_type": "markdown",
   "id": "90516567-b1d5-41c4-8140-28475394ca8f",
   "metadata": {},
   "source": [
    "## Listwise lambdaMART"
   ]
  },
  {
   "cell_type": "code",
   "execution_count": 24,
   "id": "9d978f7c-7768-48e8-8c08-257d0bcef877",
   "metadata": {},
   "outputs": [
    {
     "name": "stdout",
     "output_type": "stream",
     "text": [
      "[0]\tvalidation_0-ndcg@1:0.62113\tvalidation_0-ndcg@5:0.70299\tvalidation_0-ndcg@10:0.85052\n",
      "[1]\tvalidation_0-ndcg@1:0.62451\tvalidation_0-ndcg@5:0.70473\tvalidation_0-ndcg@10:0.85176\n",
      "[2]\tvalidation_0-ndcg@1:0.62518\tvalidation_0-ndcg@5:0.70415\tvalidation_0-ndcg@10:0.85185\n",
      "[3]\tvalidation_0-ndcg@1:0.62518\tvalidation_0-ndcg@5:0.70380\tvalidation_0-ndcg@10:0.85198\n",
      "[4]\tvalidation_0-ndcg@1:0.62289\tvalidation_0-ndcg@5:0.70327\tvalidation_0-ndcg@10:0.85158\n",
      "[5]\tvalidation_0-ndcg@1:0.62443\tvalidation_0-ndcg@5:0.70638\tvalidation_0-ndcg@10:0.85285\n",
      "[6]\tvalidation_0-ndcg@1:0.62779\tvalidation_0-ndcg@5:0.70672\tvalidation_0-ndcg@10:0.85325\n",
      "[7]\tvalidation_0-ndcg@1:0.62658\tvalidation_0-ndcg@5:0.70895\tvalidation_0-ndcg@10:0.85394\n",
      "[8]\tvalidation_0-ndcg@1:0.62713\tvalidation_0-ndcg@5:0.70963\tvalidation_0-ndcg@10:0.85419\n",
      "[9]\tvalidation_0-ndcg@1:0.62934\tvalidation_0-ndcg@5:0.71024\tvalidation_0-ndcg@10:0.85449\n",
      "[10]\tvalidation_0-ndcg@1:0.62725\tvalidation_0-ndcg@5:0.71158\tvalidation_0-ndcg@10:0.85458\n",
      "[11]\tvalidation_0-ndcg@1:0.62910\tvalidation_0-ndcg@5:0.71250\tvalidation_0-ndcg@10:0.85493\n",
      "[12]\tvalidation_0-ndcg@1:0.62910\tvalidation_0-ndcg@5:0.71284\tvalidation_0-ndcg@10:0.85503\n",
      "[13]\tvalidation_0-ndcg@1:0.62959\tvalidation_0-ndcg@5:0.71228\tvalidation_0-ndcg@10:0.85554\n",
      "[14]\tvalidation_0-ndcg@1:0.63019\tvalidation_0-ndcg@5:0.71307\tvalidation_0-ndcg@10:0.85603\n",
      "[15]\tvalidation_0-ndcg@1:0.62841\tvalidation_0-ndcg@5:0.71291\tvalidation_0-ndcg@10:0.85581\n",
      "[16]\tvalidation_0-ndcg@1:0.63344\tvalidation_0-ndcg@5:0.71356\tvalidation_0-ndcg@10:0.85629\n",
      "[17]\tvalidation_0-ndcg@1:0.63457\tvalidation_0-ndcg@5:0.71415\tvalidation_0-ndcg@10:0.85672\n",
      "[18]\tvalidation_0-ndcg@1:0.63402\tvalidation_0-ndcg@5:0.71391\tvalidation_0-ndcg@10:0.85657\n",
      "[19]\tvalidation_0-ndcg@1:0.63380\tvalidation_0-ndcg@5:0.71373\tvalidation_0-ndcg@10:0.85654\n",
      "[20]\tvalidation_0-ndcg@1:0.63530\tvalidation_0-ndcg@5:0.71382\tvalidation_0-ndcg@10:0.85680\n",
      "[21]\tvalidation_0-ndcg@1:0.63459\tvalidation_0-ndcg@5:0.71380\tvalidation_0-ndcg@10:0.85666\n",
      "[22]\tvalidation_0-ndcg@1:0.63411\tvalidation_0-ndcg@5:0.71501\tvalidation_0-ndcg@10:0.85658\n",
      "[23]\tvalidation_0-ndcg@1:0.63301\tvalidation_0-ndcg@5:0.71400\tvalidation_0-ndcg@10:0.85642\n",
      "[24]\tvalidation_0-ndcg@1:0.63377\tvalidation_0-ndcg@5:0.71415\tvalidation_0-ndcg@10:0.85652\n",
      "[25]\tvalidation_0-ndcg@1:0.63377\tvalidation_0-ndcg@5:0.71443\tvalidation_0-ndcg@10:0.85645\n",
      "[26]\tvalidation_0-ndcg@1:0.63329\tvalidation_0-ndcg@5:0.71467\tvalidation_0-ndcg@10:0.85656\n",
      "[27]\tvalidation_0-ndcg@1:0.63500\tvalidation_0-ndcg@5:0.71464\tvalidation_0-ndcg@10:0.85680\n",
      "[28]\tvalidation_0-ndcg@1:0.63482\tvalidation_0-ndcg@5:0.71504\tvalidation_0-ndcg@10:0.85695\n",
      "[29]\tvalidation_0-ndcg@1:0.63507\tvalidation_0-ndcg@5:0.71608\tvalidation_0-ndcg@10:0.85723\n",
      "[30]\tvalidation_0-ndcg@1:0.63717\tvalidation_0-ndcg@5:0.71703\tvalidation_0-ndcg@10:0.85777\n",
      "[31]\tvalidation_0-ndcg@1:0.63663\tvalidation_0-ndcg@5:0.71623\tvalidation_0-ndcg@10:0.85777\n",
      "[32]\tvalidation_0-ndcg@1:0.63876\tvalidation_0-ndcg@5:0.71724\tvalidation_0-ndcg@10:0.85794\n",
      "[33]\tvalidation_0-ndcg@1:0.64095\tvalidation_0-ndcg@5:0.71723\tvalidation_0-ndcg@10:0.85847\n",
      "[34]\tvalidation_0-ndcg@1:0.64180\tvalidation_0-ndcg@5:0.71718\tvalidation_0-ndcg@10:0.85868\n",
      "[35]\tvalidation_0-ndcg@1:0.64254\tvalidation_0-ndcg@5:0.71744\tvalidation_0-ndcg@10:0.85886\n",
      "[36]\tvalidation_0-ndcg@1:0.64137\tvalidation_0-ndcg@5:0.71737\tvalidation_0-ndcg@10:0.85869\n",
      "[37]\tvalidation_0-ndcg@1:0.64386\tvalidation_0-ndcg@5:0.71808\tvalidation_0-ndcg@10:0.85923\n",
      "[38]\tvalidation_0-ndcg@1:0.64386\tvalidation_0-ndcg@5:0.71837\tvalidation_0-ndcg@10:0.85929\n",
      "[39]\tvalidation_0-ndcg@1:0.64569\tvalidation_0-ndcg@5:0.71950\tvalidation_0-ndcg@10:0.85981\n",
      "[40]\tvalidation_0-ndcg@1:0.64447\tvalidation_0-ndcg@5:0.71870\tvalidation_0-ndcg@10:0.85950\n",
      "[41]\tvalidation_0-ndcg@1:0.64543\tvalidation_0-ndcg@5:0.71968\tvalidation_0-ndcg@10:0.85987\n",
      "[42]\tvalidation_0-ndcg@1:0.64543\tvalidation_0-ndcg@5:0.71962\tvalidation_0-ndcg@10:0.85982\n",
      "[43]\tvalidation_0-ndcg@1:0.64584\tvalidation_0-ndcg@5:0.71988\tvalidation_0-ndcg@10:0.85989\n",
      "[44]\tvalidation_0-ndcg@1:0.64452\tvalidation_0-ndcg@5:0.71968\tvalidation_0-ndcg@10:0.85976\n",
      "[45]\tvalidation_0-ndcg@1:0.64474\tvalidation_0-ndcg@5:0.72023\tvalidation_0-ndcg@10:0.85989\n",
      "[46]\tvalidation_0-ndcg@1:0.64474\tvalidation_0-ndcg@5:0.72039\tvalidation_0-ndcg@10:0.85986\n",
      "[47]\tvalidation_0-ndcg@1:0.64289\tvalidation_0-ndcg@5:0.71995\tvalidation_0-ndcg@10:0.85963\n",
      "[48]\tvalidation_0-ndcg@1:0.64235\tvalidation_0-ndcg@5:0.71979\tvalidation_0-ndcg@10:0.85954\n",
      "[49]\tvalidation_0-ndcg@1:0.64235\tvalidation_0-ndcg@5:0.71971\tvalidation_0-ndcg@10:0.85955\n",
      "[50]\tvalidation_0-ndcg@1:0.64235\tvalidation_0-ndcg@5:0.71949\tvalidation_0-ndcg@10:0.85941\n",
      "[51]\tvalidation_0-ndcg@1:0.64123\tvalidation_0-ndcg@5:0.71940\tvalidation_0-ndcg@10:0.85941\n",
      "[52]\tvalidation_0-ndcg@1:0.64363\tvalidation_0-ndcg@5:0.71998\tvalidation_0-ndcg@10:0.85969\n",
      "[53]\tvalidation_0-ndcg@1:0.64732\tvalidation_0-ndcg@5:0.72016\tvalidation_0-ndcg@10:0.86031\n",
      "[54]\tvalidation_0-ndcg@1:0.64864\tvalidation_0-ndcg@5:0.72047\tvalidation_0-ndcg@10:0.86068\n",
      "[55]\tvalidation_0-ndcg@1:0.64892\tvalidation_0-ndcg@5:0.71909\tvalidation_0-ndcg@10:0.86041\n",
      "[56]\tvalidation_0-ndcg@1:0.64804\tvalidation_0-ndcg@5:0.71923\tvalidation_0-ndcg@10:0.86030\n",
      "[57]\tvalidation_0-ndcg@1:0.64651\tvalidation_0-ndcg@5:0.71981\tvalidation_0-ndcg@10:0.86041\n",
      "[58]\tvalidation_0-ndcg@1:0.64699\tvalidation_0-ndcg@5:0.71879\tvalidation_0-ndcg@10:0.86008\n",
      "[59]\tvalidation_0-ndcg@1:0.65075\tvalidation_0-ndcg@5:0.72056\tvalidation_0-ndcg@10:0.86097\n",
      "[60]\tvalidation_0-ndcg@1:0.64952\tvalidation_0-ndcg@5:0.72034\tvalidation_0-ndcg@10:0.86077\n",
      "[61]\tvalidation_0-ndcg@1:0.65005\tvalidation_0-ndcg@5:0.72027\tvalidation_0-ndcg@10:0.86085\n",
      "[62]\tvalidation_0-ndcg@1:0.65059\tvalidation_0-ndcg@5:0.72010\tvalidation_0-ndcg@10:0.86087\n",
      "[63]\tvalidation_0-ndcg@1:0.65005\tvalidation_0-ndcg@5:0.72049\tvalidation_0-ndcg@10:0.86088\n",
      "[64]\tvalidation_0-ndcg@1:0.65005\tvalidation_0-ndcg@5:0.72078\tvalidation_0-ndcg@10:0.86086\n",
      "[65]\tvalidation_0-ndcg@1:0.65059\tvalidation_0-ndcg@5:0.72077\tvalidation_0-ndcg@10:0.86112\n",
      "[66]\tvalidation_0-ndcg@1:0.65059\tvalidation_0-ndcg@5:0.72085\tvalidation_0-ndcg@10:0.86115\n",
      "[67]\tvalidation_0-ndcg@1:0.65059\tvalidation_0-ndcg@5:0.72115\tvalidation_0-ndcg@10:0.86120\n",
      "[68]\tvalidation_0-ndcg@1:0.65114\tvalidation_0-ndcg@5:0.72102\tvalidation_0-ndcg@10:0.86110\n",
      "[69]\tvalidation_0-ndcg@1:0.65114\tvalidation_0-ndcg@5:0.72113\tvalidation_0-ndcg@10:0.86115\n",
      "[70]\tvalidation_0-ndcg@1:0.65196\tvalidation_0-ndcg@5:0.72117\tvalidation_0-ndcg@10:0.86125\n",
      "[71]\tvalidation_0-ndcg@1:0.65114\tvalidation_0-ndcg@5:0.72117\tvalidation_0-ndcg@10:0.86118\n",
      "[72]\tvalidation_0-ndcg@1:0.65196\tvalidation_0-ndcg@5:0.72098\tvalidation_0-ndcg@10:0.86124\n",
      "[73]\tvalidation_0-ndcg@1:0.65052\tvalidation_0-ndcg@5:0.72108\tvalidation_0-ndcg@10:0.86121\n",
      "[74]\tvalidation_0-ndcg@1:0.65239\tvalidation_0-ndcg@5:0.72148\tvalidation_0-ndcg@10:0.86157\n",
      "[75]\tvalidation_0-ndcg@1:0.65384\tvalidation_0-ndcg@5:0.72112\tvalidation_0-ndcg@10:0.86158\n",
      "[76]\tvalidation_0-ndcg@1:0.65384\tvalidation_0-ndcg@5:0.72091\tvalidation_0-ndcg@10:0.86154\n",
      "[77]\tvalidation_0-ndcg@1:0.65384\tvalidation_0-ndcg@5:0.72121\tvalidation_0-ndcg@10:0.86158\n",
      "[78]\tvalidation_0-ndcg@1:0.65384\tvalidation_0-ndcg@5:0.72149\tvalidation_0-ndcg@10:0.86165\n",
      "[79]\tvalidation_0-ndcg@1:0.65466\tvalidation_0-ndcg@5:0.72184\tvalidation_0-ndcg@10:0.86176\n",
      "[80]\tvalidation_0-ndcg@1:0.65602\tvalidation_0-ndcg@5:0.72238\tvalidation_0-ndcg@10:0.86198\n",
      "[81]\tvalidation_0-ndcg@1:0.65602\tvalidation_0-ndcg@5:0.72230\tvalidation_0-ndcg@10:0.86194\n",
      "[82]\tvalidation_0-ndcg@1:0.65642\tvalidation_0-ndcg@5:0.72223\tvalidation_0-ndcg@10:0.86201\n",
      "[83]\tvalidation_0-ndcg@1:0.65572\tvalidation_0-ndcg@5:0.72198\tvalidation_0-ndcg@10:0.86212\n",
      "[84]\tvalidation_0-ndcg@1:0.65337\tvalidation_0-ndcg@5:0.72216\tvalidation_0-ndcg@10:0.86198\n",
      "[85]\tvalidation_0-ndcg@1:0.65337\tvalidation_0-ndcg@5:0.72244\tvalidation_0-ndcg@10:0.86200\n",
      "[86]\tvalidation_0-ndcg@1:0.65337\tvalidation_0-ndcg@5:0.72209\tvalidation_0-ndcg@10:0.86196\n",
      "[87]\tvalidation_0-ndcg@1:0.65337\tvalidation_0-ndcg@5:0.72254\tvalidation_0-ndcg@10:0.86186\n",
      "[88]\tvalidation_0-ndcg@1:0.65357\tvalidation_0-ndcg@5:0.72233\tvalidation_0-ndcg@10:0.86191\n",
      "[89]\tvalidation_0-ndcg@1:0.65357\tvalidation_0-ndcg@5:0.72254\tvalidation_0-ndcg@10:0.86190\n",
      "[90]\tvalidation_0-ndcg@1:0.65357\tvalidation_0-ndcg@5:0.72258\tvalidation_0-ndcg@10:0.86190\n",
      "[91]\tvalidation_0-ndcg@1:0.65302\tvalidation_0-ndcg@5:0.72247\tvalidation_0-ndcg@10:0.86193\n",
      "[92]\tvalidation_0-ndcg@1:0.65302\tvalidation_0-ndcg@5:0.72319\tvalidation_0-ndcg@10:0.86229\n",
      "[93]\tvalidation_0-ndcg@1:0.65302\tvalidation_0-ndcg@5:0.72355\tvalidation_0-ndcg@10:0.86230\n",
      "[94]\tvalidation_0-ndcg@1:0.65207\tvalidation_0-ndcg@5:0.72326\tvalidation_0-ndcg@10:0.86216\n",
      "[95]\tvalidation_0-ndcg@1:0.65225\tvalidation_0-ndcg@5:0.72315\tvalidation_0-ndcg@10:0.86217\n",
      "[96]\tvalidation_0-ndcg@1:0.65280\tvalidation_0-ndcg@5:0.72363\tvalidation_0-ndcg@10:0.86232\n",
      "[97]\tvalidation_0-ndcg@1:0.65239\tvalidation_0-ndcg@5:0.72359\tvalidation_0-ndcg@10:0.86225\n",
      "[98]\tvalidation_0-ndcg@1:0.65239\tvalidation_0-ndcg@5:0.72318\tvalidation_0-ndcg@10:0.86215\n",
      "[99]\tvalidation_0-ndcg@1:0.65278\tvalidation_0-ndcg@5:0.72322\tvalidation_0-ndcg@10:0.86218\n"
     ]
    },
    {
     "data": {
      "text/html": [
       "<style>#sk-container-id-4 {color: black;}#sk-container-id-4 pre{padding: 0;}#sk-container-id-4 div.sk-toggleable {background-color: white;}#sk-container-id-4 label.sk-toggleable__label {cursor: pointer;display: block;width: 100%;margin-bottom: 0;padding: 0.3em;box-sizing: border-box;text-align: center;}#sk-container-id-4 label.sk-toggleable__label-arrow:before {content: \"▸\";float: left;margin-right: 0.25em;color: #696969;}#sk-container-id-4 label.sk-toggleable__label-arrow:hover:before {color: black;}#sk-container-id-4 div.sk-estimator:hover label.sk-toggleable__label-arrow:before {color: black;}#sk-container-id-4 div.sk-toggleable__content {max-height: 0;max-width: 0;overflow: hidden;text-align: left;background-color: #f0f8ff;}#sk-container-id-4 div.sk-toggleable__content pre {margin: 0.2em;color: black;border-radius: 0.25em;background-color: #f0f8ff;}#sk-container-id-4 input.sk-toggleable__control:checked~div.sk-toggleable__content {max-height: 200px;max-width: 100%;overflow: auto;}#sk-container-id-4 input.sk-toggleable__control:checked~label.sk-toggleable__label-arrow:before {content: \"▾\";}#sk-container-id-4 div.sk-estimator input.sk-toggleable__control:checked~label.sk-toggleable__label {background-color: #d4ebff;}#sk-container-id-4 div.sk-label input.sk-toggleable__control:checked~label.sk-toggleable__label {background-color: #d4ebff;}#sk-container-id-4 input.sk-hidden--visually {border: 0;clip: rect(1px 1px 1px 1px);clip: rect(1px, 1px, 1px, 1px);height: 1px;margin: -1px;overflow: hidden;padding: 0;position: absolute;width: 1px;}#sk-container-id-4 div.sk-estimator {font-family: monospace;background-color: #f0f8ff;border: 1px dotted black;border-radius: 0.25em;box-sizing: border-box;margin-bottom: 0.5em;}#sk-container-id-4 div.sk-estimator:hover {background-color: #d4ebff;}#sk-container-id-4 div.sk-parallel-item::after {content: \"\";width: 100%;border-bottom: 1px solid gray;flex-grow: 1;}#sk-container-id-4 div.sk-label:hover label.sk-toggleable__label {background-color: #d4ebff;}#sk-container-id-4 div.sk-serial::before {content: \"\";position: absolute;border-left: 1px solid gray;box-sizing: border-box;top: 0;bottom: 0;left: 50%;z-index: 0;}#sk-container-id-4 div.sk-serial {display: flex;flex-direction: column;align-items: center;background-color: white;padding-right: 0.2em;padding-left: 0.2em;position: relative;}#sk-container-id-4 div.sk-item {position: relative;z-index: 1;}#sk-container-id-4 div.sk-parallel {display: flex;align-items: stretch;justify-content: center;background-color: white;position: relative;}#sk-container-id-4 div.sk-item::before, #sk-container-id-4 div.sk-parallel-item::before {content: \"\";position: absolute;border-left: 1px solid gray;box-sizing: border-box;top: 0;bottom: 0;left: 50%;z-index: -1;}#sk-container-id-4 div.sk-parallel-item {display: flex;flex-direction: column;z-index: 1;position: relative;background-color: white;}#sk-container-id-4 div.sk-parallel-item:first-child::after {align-self: flex-end;width: 50%;}#sk-container-id-4 div.sk-parallel-item:last-child::after {align-self: flex-start;width: 50%;}#sk-container-id-4 div.sk-parallel-item:only-child::after {width: 0;}#sk-container-id-4 div.sk-dashed-wrapped {border: 1px dashed gray;margin: 0 0.4em 0.5em 0.4em;box-sizing: border-box;padding-bottom: 0.4em;background-color: white;}#sk-container-id-4 div.sk-label label {font-family: monospace;font-weight: bold;display: inline-block;line-height: 1.2em;}#sk-container-id-4 div.sk-label-container {text-align: center;}#sk-container-id-4 div.sk-container {/* jupyter's `normalize.less` sets `[hidden] { display: none; }` but bootstrap.min.css set `[hidden] { display: none !important; }` so we also need the `!important` here to be able to override the default hidden behavior on the sphinx rendered scikit-learn.org. See: https://github.com/scikit-learn/scikit-learn/issues/21755 */display: inline-block !important;position: relative;}#sk-container-id-4 div.sk-text-repr-fallback {display: none;}</style><div id=\"sk-container-id-4\" class=\"sk-top-container\"><div class=\"sk-text-repr-fallback\"><pre>XGBRanker(base_score=None, booster=None, callbacks=None, colsample_bylevel=None,\n",
       "          colsample_bynode=None, colsample_bytree=None, device=None,\n",
       "          early_stopping_rounds=None, enable_categorical=False,\n",
       "          eval_metric=None, feature_types=None, gamma=None, grow_policy=None,\n",
       "          importance_type=None, interaction_constraints=None,\n",
       "          learning_rate=None, max_bin=None, max_cat_threshold=None,\n",
       "          max_cat_to_onehot=None, max_delta_step=None, max_depth=5,\n",
       "          max_leaves=10, min_child_weight=None, missing=nan,\n",
       "          monotone_constraints=None, multi_strategy=None, n_estimators=100,\n",
       "          n_jobs=None, num_parallel_tree=None, random_state=None, ...)</pre><b>In a Jupyter environment, please rerun this cell to show the HTML representation or trust the notebook. <br />On GitHub, the HTML representation is unable to render, please try loading this page with nbviewer.org.</b></div><div class=\"sk-container\" hidden><div class=\"sk-item\"><div class=\"sk-estimator sk-toggleable\"><input class=\"sk-toggleable__control sk-hidden--visually\" id=\"sk-estimator-id-4\" type=\"checkbox\" checked><label for=\"sk-estimator-id-4\" class=\"sk-toggleable__label sk-toggleable__label-arrow\">XGBRanker</label><div class=\"sk-toggleable__content\"><pre>XGBRanker(base_score=None, booster=None, callbacks=None, colsample_bylevel=None,\n",
       "          colsample_bynode=None, colsample_bytree=None, device=None,\n",
       "          early_stopping_rounds=None, enable_categorical=False,\n",
       "          eval_metric=None, feature_types=None, gamma=None, grow_policy=None,\n",
       "          importance_type=None, interaction_constraints=None,\n",
       "          learning_rate=None, max_bin=None, max_cat_threshold=None,\n",
       "          max_cat_to_onehot=None, max_delta_step=None, max_depth=5,\n",
       "          max_leaves=10, min_child_weight=None, missing=nan,\n",
       "          monotone_constraints=None, multi_strategy=None, n_estimators=100,\n",
       "          n_jobs=None, num_parallel_tree=None, random_state=None, ...)</pre></div></div></div></div></div>"
      ],
      "text/plain": [
       "XGBRanker(base_score=None, booster=None, callbacks=None, colsample_bylevel=None,\n",
       "          colsample_bynode=None, colsample_bytree=None, device=None,\n",
       "          early_stopping_rounds=None, enable_categorical=False,\n",
       "          eval_metric=None, feature_types=None, gamma=None, grow_policy=None,\n",
       "          importance_type=None, interaction_constraints=None,\n",
       "          learning_rate=None, max_bin=None, max_cat_threshold=None,\n",
       "          max_cat_to_onehot=None, max_delta_step=None, max_depth=5,\n",
       "          max_leaves=10, min_child_weight=None, missing=nan,\n",
       "          monotone_constraints=None, multi_strategy=None, n_estimators=100,\n",
       "          n_jobs=None, num_parallel_tree=None, random_state=None, ...)"
      ]
     },
     "execution_count": 24,
     "metadata": {},
     "output_type": "execute_result"
    }
   ],
   "source": [
    "import xgboost\n",
    "training_params = {'max_depth': 5, \n",
    "                   'max_leaves': 10, \n",
    "                   'objective': 'rank:ndcg',   # phương pháp Listwise và tối đa hóa NDCG; hoặc \"rank:map\" để tối đa hóa MAP\n",
    "                   'n_estimators':100}\n",
    "xgboost_lambdamart_listwise = xgboost.XGBRanker(**training_params)\n",
    "xgboost_lambdamart_listwise.fit(\n",
    "    X_train, y_train, group_train, verbose=True, eval_set=[(X_test, y_test)], \n",
    "    eval_group=[group_test], eval_metric = ['ndcg@1', 'ndcg@5', 'ndcg@10'],\n",
    ")"
   ]
  },
  {
   "cell_type": "code",
   "execution_count": 25,
   "id": "99c71eee-24c3-42d2-a21c-16b1d0f3f348",
   "metadata": {},
   "outputs": [
    {
     "name": "stdout",
     "output_type": "stream",
     "text": [
      "NDCG@1: 0.6574\n",
      "NDCG@5: 0.7236\n",
      "NDCG@10: 0.8626\n"
     ]
    },
    {
     "data": {
      "text/plain": [
       "(0.65744275, 0.7235935, 0.8626191)"
      ]
     },
     "execution_count": 25,
     "metadata": {},
     "output_type": "execute_result"
    }
   ],
   "source": [
    "evaluate(xgboost_lambdamart_listwise, X_test, group_test, y_test)"
   ]
  },
  {
   "cell_type": "code",
   "execution_count": 27,
   "id": "a7054190-f083-4e1c-a92e-4033039cdd3c",
   "metadata": {},
   "outputs": [],
   "source": [
    "import pickle\n",
    "with open('xgboost_checkpoints/xgboost_lambdamart_listwise.h5', 'wb') as f:\n",
    "    pickle.dump(xgboost_lambdamart_listwise, f)"
   ]
  }
 ],
 "metadata": {
  "kernelspec": {
   "display_name": "movie_env",
   "language": "python",
   "name": "python3"
  },
  "language_info": {
   "codemirror_mode": {
    "name": "ipython",
    "version": 3
   },
   "file_extension": ".py",
   "mimetype": "text/x-python",
   "name": "python",
   "nbconvert_exporter": "python",
   "pygments_lexer": "ipython3",
   "version": "3.11.4"
  }
 },
 "nbformat": 4,
 "nbformat_minor": 5
}
