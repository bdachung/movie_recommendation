{
 "cells": [
  {
   "cell_type": "code",
   "execution_count": 4,
   "id": "e1e8d3a5-1459-42f7-81c6-7c295923dc86",
   "metadata": {},
   "outputs": [],
   "source": [
    "import pandas as pd \n",
    "import numpy as np\n",
    "from sklearn.metrics.pairwise import cosine_similarity\n",
    "from sklearn.model_selection import train_test_split\n",
    "from scipy import sparse "
   ]
  },
  {
   "cell_type": "code",
   "execution_count": 32,
   "id": "6517ddba",
   "metadata": {},
   "outputs": [
    {
     "name": "stdout",
     "output_type": "stream",
     "text": [
      "Requirement already satisfied: matplotlib in /home/dh2409/miniconda3/envs/pDL/lib/python3.8/site-packages (3.5.1)\n",
      "Requirement already satisfied: pyparsing>=2.2.1 in /home/dh2409/miniconda3/envs/pDL/lib/python3.8/site-packages (from matplotlib) (3.0.7)\n",
      "Requirement already satisfied: pillow>=6.2.0 in /home/dh2409/miniconda3/envs/pDL/lib/python3.8/site-packages (from matplotlib) (9.1.0)\n",
      "Requirement already satisfied: cycler>=0.10 in /home/dh2409/miniconda3/envs/pDL/lib/python3.8/site-packages (from matplotlib) (0.11.0)\n",
      "Requirement already satisfied: fonttools>=4.22.0 in /home/dh2409/miniconda3/envs/pDL/lib/python3.8/site-packages (from matplotlib) (4.32.0)\n",
      "Requirement already satisfied: numpy>=1.17 in /home/dh2409/miniconda3/envs/pDL/lib/python3.8/site-packages (from matplotlib) (1.21.5)\n",
      "Requirement already satisfied: kiwisolver>=1.0.1 in /home/dh2409/miniconda3/envs/pDL/lib/python3.8/site-packages (from matplotlib) (1.4.2)\n",
      "Requirement already satisfied: python-dateutil>=2.7 in /home/dh2409/miniconda3/envs/pDL/lib/python3.8/site-packages (from matplotlib) (2.8.2)\n",
      "Requirement already satisfied: packaging>=20.0 in /home/dh2409/miniconda3/envs/pDL/lib/python3.8/site-packages (from matplotlib) (21.3)\n",
      "Requirement already satisfied: six>=1.5 in /home/dh2409/miniconda3/envs/pDL/lib/python3.8/site-packages (from python-dateutil>=2.7->matplotlib) (1.16.0)\n",
      "Note: you may need to restart the kernel to use updated packages.\n"
     ]
    }
   ],
   "source": [
    "pip install matplotlib"
   ]
  },
  {
   "cell_type": "code",
   "execution_count": 5,
   "id": "c5fa8c1e-fc73-4668-9cc9-2789627314df",
   "metadata": {},
   "outputs": [],
   "source": [
    "class CF(object):\n",
    "    \"\"\"docstring for CF\"\"\"\n",
    "    def __init__(self, Y_data, k, dist_func = cosine_similarity, uuCF = 1):\n",
    "        self.uuCF = uuCF # user-user (1) or item-item (0) CF\n",
    "        self.Y_data = Y_data if uuCF else Y_data[:, [1, 0, 2]]\n",
    "        self.k = k\n",
    "        self.dist_func = dist_func\n",
    "        self.Ybar_data = None\n",
    "        # number of users and items. Remember to add 1 since id starts from 0\n",
    "        self.n_users = int(np.max(self.Y_data[:, 0])) + 1 \n",
    "        self.n_items = int(np.max(self.Y_data[:, 1])) + 1\n",
    "    \n",
    "    def add(self, new_data):\n",
    "        \"\"\"\n",
    "        Update Y_data matrix when new ratings come.\n",
    "        For simplicity, suppose that there is no new user or item.\n",
    "        \"\"\"\n",
    "        self.Y_data = np.concatenate((self.Y_data, new_data), axis = 0)\n",
    "    \n",
    "    def normalize_Y(self):\n",
    "        users = self.Y_data[:, 0] # all users - first col of the Y_data\n",
    "        self.Ybar_data = self.Y_data.copy()\n",
    "        self.mu = np.zeros((self.n_users,))\n",
    "        for n in range(self.n_users):\n",
    "            # row indices of rating done by user n\n",
    "            # since indices need to be integers, we need to convert\n",
    "            ids = np.where(users == n)[0].astype(np.int32)\n",
    "            # indices of all ratings associated with user n\n",
    "            item_ids = self.Y_data[ids, 1] \n",
    "            # and the corresponding ratings \n",
    "            ratings = self.Y_data[ids, 2]\n",
    "            # take mean\n",
    "            m = np.mean(ratings) \n",
    "            if np.isnan(m):\n",
    "                m = 0 # to avoid empty array and nan value\n",
    "            self.mu[n] = m\n",
    "            # normalize\n",
    "            self.Ybar_data[ids, 2] = ratings - self.mu[n]\n",
    "\n",
    "        ################################################\n",
    "        # form the rating matrix as a sparse matrix. Sparsity is important \n",
    "        # for both memory and computing efficiency. For example, if #user = 1M, \n",
    "        # #item = 100k, then shape of the rating matrix would be (100k, 1M), \n",
    "        # you may not have enough memory to store this. Then, instead, we store \n",
    "        # nonzeros only, and, of course, their locations.\n",
    "        self.Ybar = sparse.coo_matrix((self.Ybar_data[:, 2],\n",
    "            (self.Ybar_data[:, 1], self.Ybar_data[:, 0])), (self.n_items, self.n_users))\n",
    "        self.Ybar = self.Ybar.tocsr()\n",
    "\n",
    "    def similarity(self):\n",
    "        eps = 1e-6\n",
    "        self.S = self.dist_func(self.Ybar.T, self.Ybar.T)\n",
    "    \n",
    "        \n",
    "    def refresh(self):\n",
    "        \"\"\"\n",
    "        Normalize data and calculate similarity matrix again (after\n",
    "        some few ratings added)\n",
    "        \"\"\"\n",
    "        self.normalize_Y()\n",
    "        self.similarity() \n",
    "        \n",
    "    def fit(self):\n",
    "        self.refresh()\n",
    "        \n",
    "    \n",
    "    def __pred(self, u, i, normalized = 1):\n",
    "        \"\"\" \n",
    "        predict the rating of user u for item i (normalized)\n",
    "        if you need the un\n",
    "        \"\"\"\n",
    "        # Step 1: find all users who rated i\n",
    "        ids = np.where(self.Y_data[:, 1] == i)[0].astype(np.int32)\n",
    "        # Step 2: \n",
    "        users_rated_i = (self.Y_data[ids, 0]).astype(np.int32)\n",
    "        # Step 3: find similarity btw the current user and others \n",
    "        # who already rated i\n",
    "        sim = self.S[u, users_rated_i]\n",
    "        # Step 4: find the k most similarity users\n",
    "        a = np.argsort(sim)[-self.k:] \n",
    "        # and the corresponding similarity levels\n",
    "        nearest_s = sim[a]\n",
    "        # How did each of 'near' users rated item i\n",
    "        r = self.Ybar[i, users_rated_i[a]]\n",
    "        if normalized:\n",
    "            # add a small number, for instance, 1e-8, to avoid dividing by 0\n",
    "            return (r*nearest_s)[0]/(np.abs(nearest_s).sum() + 1e-8)\n",
    "\n",
    "        return (r*nearest_s)[0]/(np.abs(nearest_s).sum() + 1e-8) + self.mu[u]\n",
    "    \n",
    "    def pred(self, u, i, normalized = 1):\n",
    "        \"\"\" \n",
    "        predict the rating of user u for item i (normalized)\n",
    "        if you need the un\n",
    "        \"\"\"\n",
    "        if self.uuCF: return self.__pred(u, i, normalized)\n",
    "        return self.__pred(i, u, normalized)\n",
    "            \n",
    "    \n",
    "    def recommend(self, u, num=None):\n",
    "        \"\"\"\n",
    "        Determine all items should be recommended for user u.\n",
    "        The decision is made based on all i such that:\n",
    "        self.pred(u, i) > 0. Suppose we are considering items which \n",
    "        have not been rated by u yet. \n",
    "        \"\"\"\n",
    "        ids = np.where(self.Y_data[:, 0] == u)[0]\n",
    "        items_rated_by_u = self.Y_data[ids, 1].tolist()              \n",
    "        recommended_items = []\n",
    "        [recommended_items.append((i, self.__pred(u,i))) for i in range(self.n_items) if i not in items_rated_by_u and self.__pred(u,i) > 0]\n",
    "        # for i in range(self.n_items):\n",
    "        #     if i not in items_rated_by_u:\n",
    "        #         rating = self.__pred(u, i)\n",
    "        #         if rating > 0: \n",
    "        #             recommended_items.append(i)\n",
    "        recommended_items.sort(key=lambda tup: tup[1], reverse=True)\n",
    "        \n",
    "        # return recommended_items \n",
    "        return [item[0] for item in recommended_items][:num]\n",
    "\n",
    "    def print_recommendation(self, num):\n",
    "        \"\"\"\n",
    "        print all items which should be recommended for each user \n",
    "        \"\"\"\n",
    "        print('Recommendation: ')\n",
    "        for u in range(self.n_users):\n",
    "            recommended_items = self.recommend(u, num)\n",
    "            if self.uuCF:\n",
    "                print('    Recommend item(s):', recommended_items, 'for user', u)\n",
    "            else: \n",
    "                print('    Recommend item', u, 'for user(s) : ', recommended_items)"
   ]
  },
  {
   "cell_type": "code",
   "execution_count": 6,
   "id": "e5509dbf-0302-4518-8518-9dc8ba238144",
   "metadata": {},
   "outputs": [
    {
     "name": "stderr",
     "output_type": "stream",
     "text": [
      "/tmp/ipykernel_13222/3914173650.py:3: ParserWarning: Falling back to the 'python' engine because the 'c' engine does not support regex separators (separators > 1 char and different from '\\s+' are interpreted as regex); you can avoid this warning by specifying engine='python'.\n",
      "  ratings = pd.read_csv('data/ml-1m/ratings.dat', sep='::', names=r_cols, encoding='latin-1')\n"
     ]
    }
   ],
   "source": [
    "r_cols = ['user_id', 'movie_id', 'rating', 'unix_timestamp']\n",
    "\n",
    "ratings = pd.read_csv('data/ml-1m/ratings.dat', sep='::', names=r_cols, encoding='latin-1')\n",
    "\n",
    "# indices start from 0\n",
    "# rate_train[:, :2] -= 1\n",
    "# rate_test[:, :2] -= 1"
   ]
  },
  {
   "cell_type": "code",
   "execution_count": 7,
   "id": "532af711-02cd-40d6-80b5-ded12590f29d",
   "metadata": {},
   "outputs": [
    {
     "data": {
      "text/html": [
       "<div>\n",
       "<style scoped>\n",
       "    .dataframe tbody tr th:only-of-type {\n",
       "        vertical-align: middle;\n",
       "    }\n",
       "\n",
       "    .dataframe tbody tr th {\n",
       "        vertical-align: top;\n",
       "    }\n",
       "\n",
       "    .dataframe thead th {\n",
       "        text-align: right;\n",
       "    }\n",
       "</style>\n",
       "<table border=\"1\" class=\"dataframe\">\n",
       "  <thead>\n",
       "    <tr style=\"text-align: right;\">\n",
       "      <th></th>\n",
       "      <th>user_id</th>\n",
       "      <th>movie_id</th>\n",
       "      <th>rating</th>\n",
       "      <th>unix_timestamp</th>\n",
       "    </tr>\n",
       "  </thead>\n",
       "  <tbody>\n",
       "    <tr>\n",
       "      <th>0</th>\n",
       "      <td>1</td>\n",
       "      <td>1193</td>\n",
       "      <td>5</td>\n",
       "      <td>978300760</td>\n",
       "    </tr>\n",
       "    <tr>\n",
       "      <th>1</th>\n",
       "      <td>1</td>\n",
       "      <td>661</td>\n",
       "      <td>3</td>\n",
       "      <td>978302109</td>\n",
       "    </tr>\n",
       "    <tr>\n",
       "      <th>2</th>\n",
       "      <td>1</td>\n",
       "      <td>914</td>\n",
       "      <td>3</td>\n",
       "      <td>978301968</td>\n",
       "    </tr>\n",
       "    <tr>\n",
       "      <th>3</th>\n",
       "      <td>1</td>\n",
       "      <td>3408</td>\n",
       "      <td>4</td>\n",
       "      <td>978300275</td>\n",
       "    </tr>\n",
       "    <tr>\n",
       "      <th>4</th>\n",
       "      <td>1</td>\n",
       "      <td>2355</td>\n",
       "      <td>5</td>\n",
       "      <td>978824291</td>\n",
       "    </tr>\n",
       "  </tbody>\n",
       "</table>\n",
       "</div>"
      ],
      "text/plain": [
       "   user_id  movie_id  rating  unix_timestamp\n",
       "0        1      1193       5       978300760\n",
       "1        1       661       3       978302109\n",
       "2        1       914       3       978301968\n",
       "3        1      3408       4       978300275\n",
       "4        1      2355       5       978824291"
      ]
     },
     "execution_count": 7,
     "metadata": {},
     "output_type": "execute_result"
    }
   ],
   "source": [
    "ratings.head()"
   ]
  },
  {
   "cell_type": "code",
   "execution_count": 8,
   "id": "7b012d40-f5d2-4f5f-ace6-7e6e3f0e832c",
   "metadata": {},
   "outputs": [
    {
     "data": {
      "text/plain": [
       "user_id           int64\n",
       "movie_id          int64\n",
       "rating            int64\n",
       "unix_timestamp    int64\n",
       "dtype: object"
      ]
     },
     "execution_count": 8,
     "metadata": {},
     "output_type": "execute_result"
    }
   ],
   "source": [
    "ratings.dtypes"
   ]
  },
  {
   "cell_type": "code",
   "execution_count": 9,
   "id": "cc2cea3a-e580-4dc5-a9c5-bde4a0a859e1",
   "metadata": {},
   "outputs": [
    {
     "data": {
      "text/plain": [
       "1000209"
      ]
     },
     "execution_count": 9,
     "metadata": {},
     "output_type": "execute_result"
    }
   ],
   "source": [
    "len(ratings)"
   ]
  },
  {
   "cell_type": "code",
   "execution_count": 10,
   "id": "5f2808c8-294c-4dff-aef9-8a7dae4a32b1",
   "metadata": {},
   "outputs": [],
   "source": [
    "ratings.drop(['unix_timestamp'], axis=1, inplace=True)"
   ]
  },
  {
   "cell_type": "code",
   "execution_count": 11,
   "id": "8bc5e5af-e0a0-412d-8fb8-8a9007bc6e8c",
   "metadata": {},
   "outputs": [
    {
     "data": {
      "text/html": [
       "<div>\n",
       "<style scoped>\n",
       "    .dataframe tbody tr th:only-of-type {\n",
       "        vertical-align: middle;\n",
       "    }\n",
       "\n",
       "    .dataframe tbody tr th {\n",
       "        vertical-align: top;\n",
       "    }\n",
       "\n",
       "    .dataframe thead th {\n",
       "        text-align: right;\n",
       "    }\n",
       "</style>\n",
       "<table border=\"1\" class=\"dataframe\">\n",
       "  <thead>\n",
       "    <tr style=\"text-align: right;\">\n",
       "      <th></th>\n",
       "      <th>user_id</th>\n",
       "      <th>movie_id</th>\n",
       "      <th>rating</th>\n",
       "    </tr>\n",
       "  </thead>\n",
       "  <tbody>\n",
       "    <tr>\n",
       "      <th>0</th>\n",
       "      <td>1</td>\n",
       "      <td>1193</td>\n",
       "      <td>5</td>\n",
       "    </tr>\n",
       "    <tr>\n",
       "      <th>1</th>\n",
       "      <td>1</td>\n",
       "      <td>661</td>\n",
       "      <td>3</td>\n",
       "    </tr>\n",
       "    <tr>\n",
       "      <th>2</th>\n",
       "      <td>1</td>\n",
       "      <td>914</td>\n",
       "      <td>3</td>\n",
       "    </tr>\n",
       "    <tr>\n",
       "      <th>3</th>\n",
       "      <td>1</td>\n",
       "      <td>3408</td>\n",
       "      <td>4</td>\n",
       "    </tr>\n",
       "    <tr>\n",
       "      <th>4</th>\n",
       "      <td>1</td>\n",
       "      <td>2355</td>\n",
       "      <td>5</td>\n",
       "    </tr>\n",
       "  </tbody>\n",
       "</table>\n",
       "</div>"
      ],
      "text/plain": [
       "   user_id  movie_id  rating\n",
       "0        1      1193       5\n",
       "1        1       661       3\n",
       "2        1       914       3\n",
       "3        1      3408       4\n",
       "4        1      2355       5"
      ]
     },
     "execution_count": 11,
     "metadata": {},
     "output_type": "execute_result"
    }
   ],
   "source": [
    "ratings.head()"
   ]
  },
  {
   "cell_type": "code",
   "execution_count": 12,
   "id": "1a9d4225-42fe-42fa-afdc-f791c2f49ab5",
   "metadata": {},
   "outputs": [],
   "source": [
    "ratings['user_id'] -= 1\n",
    "ratings['movie_id'] -= 1"
   ]
  },
  {
   "cell_type": "code",
   "execution_count": 13,
   "id": "b6a2cac8-562a-4e83-9f1d-393e11d0388b",
   "metadata": {},
   "outputs": [],
   "source": [
    "ratings_base, ratings_test = train_test_split(ratings, test_size=0.25, random_state=42, shuffle=True, stratify=ratings['user_id'])"
   ]
  },
  {
   "cell_type": "code",
   "execution_count": 14,
   "id": "ae763cc0-0002-4a1e-8a3c-925ab9995c22",
   "metadata": {},
   "outputs": [
    {
     "data": {
      "text/html": [
       "<div>\n",
       "<style scoped>\n",
       "    .dataframe tbody tr th:only-of-type {\n",
       "        vertical-align: middle;\n",
       "    }\n",
       "\n",
       "    .dataframe tbody tr th {\n",
       "        vertical-align: top;\n",
       "    }\n",
       "\n",
       "    .dataframe thead th {\n",
       "        text-align: right;\n",
       "    }\n",
       "</style>\n",
       "<table border=\"1\" class=\"dataframe\">\n",
       "  <thead>\n",
       "    <tr style=\"text-align: right;\">\n",
       "      <th></th>\n",
       "      <th>user_id</th>\n",
       "      <th>movie_id</th>\n",
       "      <th>rating</th>\n",
       "    </tr>\n",
       "  </thead>\n",
       "  <tbody>\n",
       "    <tr>\n",
       "      <th>83194</th>\n",
       "      <td>548</td>\n",
       "      <td>2169</td>\n",
       "      <td>1</td>\n",
       "    </tr>\n",
       "    <tr>\n",
       "      <th>321574</th>\n",
       "      <td>1906</td>\n",
       "      <td>1091</td>\n",
       "      <td>2</td>\n",
       "    </tr>\n",
       "    <tr>\n",
       "      <th>295514</th>\n",
       "      <td>1754</td>\n",
       "      <td>2247</td>\n",
       "      <td>4</td>\n",
       "    </tr>\n",
       "    <tr>\n",
       "      <th>620593</th>\n",
       "      <td>3759</td>\n",
       "      <td>2286</td>\n",
       "      <td>3</td>\n",
       "    </tr>\n",
       "    <tr>\n",
       "      <th>880884</th>\n",
       "      <td>5320</td>\n",
       "      <td>1951</td>\n",
       "      <td>5</td>\n",
       "    </tr>\n",
       "  </tbody>\n",
       "</table>\n",
       "</div>"
      ],
      "text/plain": [
       "        user_id  movie_id  rating\n",
       "83194       548      2169       1\n",
       "321574     1906      1091       2\n",
       "295514     1754      2247       4\n",
       "620593     3759      2286       3\n",
       "880884     5320      1951       5"
      ]
     },
     "execution_count": 14,
     "metadata": {},
     "output_type": "execute_result"
    }
   ],
   "source": [
    "ratings_base.head()"
   ]
  },
  {
   "cell_type": "code",
   "execution_count": 15,
   "id": "5aaf154b-e26b-4f83-89f1-9754346eb004",
   "metadata": {},
   "outputs": [],
   "source": [
    "ratings_base = ratings_base.values\n",
    "ratings_test = ratings_test.values"
   ]
  },
  {
   "cell_type": "code",
   "execution_count": 16,
   "id": "6d15a5d2-746b-4899-a63d-91f81201c1ec",
   "metadata": {},
   "outputs": [
    {
     "data": {
      "text/plain": [
       "array([[ 548, 2169,    1],\n",
       "       [1906, 1091,    2],\n",
       "       [1754, 2247,    4],\n",
       "       ...,\n",
       "       [4259, 2388,    3],\n",
       "       [4479,  427,    3],\n",
       "       [1646, 1199,    5]])"
      ]
     },
     "execution_count": 16,
     "metadata": {},
     "output_type": "execute_result"
    }
   ],
   "source": [
    "ratings_base"
   ]
  },
  {
   "cell_type": "code",
   "execution_count": 17,
   "id": "c06fcd48-6dc7-4154-ad44-81b3370e1b4c",
   "metadata": {},
   "outputs": [
    {
     "name": "stdout",
     "output_type": "stream",
     "text": [
      "User-user CF, RMSE = 0.9225545275974292\n"
     ]
    }
   ],
   "source": [
    "rs_uu = CF(ratings_base, k = 30, dist_func=cosine_similarity, uuCF = 1)\n",
    "rs_uu.fit()\n",
    "\n",
    "n_tests = ratings_test.shape[0]\n",
    "SE = 0 # squared error\n",
    "for n in range(n_tests):\n",
    "    pred = rs_uu.pred(ratings_test[n, 0], ratings_test[n, 1], normalized = 0)\n",
    "    SE += (pred - ratings_test[n, 2])**2 \n",
    "\n",
    "RMSE = np.sqrt(SE/n_tests)\n",
    "print('User-user CF, RMSE =', RMSE)"
   ]
  },
  {
   "cell_type": "code",
   "execution_count": 18,
   "id": "5955f1da",
   "metadata": {},
   "outputs": [],
   "source": [
    "pred = []\n",
    "for n in range(n_tests):\n",
    "    _pred = rs_uu.pred(ratings_test[n, 0], ratings_test[n, 1], normalized = 0)\n",
    "    # print(\"User {:^4} rated {:^4}: truth = {:.3f}, prediction = {:.3f}\".format(ratings_test[n, 0],ratings_test[n,1],ratings_test[n,2],pred))\n",
    "    pred.append(_pred)"
   ]
  },
  {
   "cell_type": "code",
   "execution_count": 36,
   "id": "acb0942a",
   "metadata": {},
   "outputs": [
    {
     "data": {
      "image/png": "[encoded data removed]",
      "text/plain": [
       "<Figure size 1440x576 with 1 Axes>"
      ]
     },
     "metadata": {
      "needs_background": "light"
     },
     "output_type": "display_data"
    }
   ],
   "source": [
    "import matplotlib.pyplot as plt\n",
    "num = 50\n",
    "plt.figure(figsize=(20,8))\n",
    "x = range(len(pred))\n",
    "plt.plot(x[:num],ratings_test[:num, 2], label = \"truth\")\n",
    "plt.plot(x[:num], pred[:num], label = \"prediction\", color=\"g\")\n",
    "plt.legend()\n",
    "plt.show()"
   ]
  },
  {
   "cell_type": "code",
   "execution_count": 32,
   "id": "e44072f3-e55e-49ed-a698-c0f9013443b8",
   "metadata": {},
   "outputs": [
    {
     "name": "stderr",
     "output_type": "stream",
     "text": [
      "/home/dh2409/miniconda3/envs/pDL/lib/python3.8/site-packages/numpy/core/fromnumeric.py:3440: RuntimeWarning: Mean of empty slice.\n",
      "  return _methods._mean(a, axis=axis, dtype=dtype,\n",
      "/home/dh2409/miniconda3/envs/pDL/lib/python3.8/site-packages/numpy/core/_methods.py:189: RuntimeWarning: invalid value encountered in double_scalars\n",
      "  ret = ret.dtype.type(ret / rcount)\n"
     ]
    },
    {
     "name": "stdout",
     "output_type": "stream",
     "text": [
      "Item-item CF, RMSE = 0.9021015133025637\n"
     ]
    }
   ],
   "source": [
    "rs_ii = CF(ratings_base, k = 30, dist_func=cosine_similarity, uuCF = 0)\n",
    "rs_ii.fit()\n",
    "\n",
    "n_tests = ratings_test.shape[0]\n",
    "SE = 0 # squared error\n",
    "for n in range(n_tests):\n",
    "    pred = rs_ii.pred(ratings_test[n, 0], ratings_test[n, 1], normalized = 0)\n",
    "    SE += (pred - ratings_test[n, 2])**2 \n",
    "\n",
    "RMSE = np.sqrt(SE/n_tests)\n",
    "print('Item-item CF, RMSE =', RMSE)"
   ]
  },
  {
   "cell_type": "code",
   "execution_count": null,
   "id": "1c7b3dcb",
   "metadata": {},
   "outputs": [],
   "source": []
  },
  {
   "cell_type": "code",
   "execution_count": 56,
   "id": "2ea355b2-bcc1-470b-b965-7b54386baf46",
   "metadata": {},
   "outputs": [],
   "source": [
    "def similarity(X,Y):\n",
    "    #X = (n_samples, n_features)\n",
    "    #Y = (n_samples, n_features)\n",
    "    X = X.toarray()\n",
    "    mean_X = np.mean(X,axis=-1)\n",
    "    mean_X_2 = np.mean(X*X, axis=-1)\n",
    "    Z = np.zeros((X.shape[0],X.shape[0]))\n",
    "    for i in range(X.shape[0]):\n",
    "        for j in range(i,X.shape[0]):\n",
    "            XY = X[i] * X[j]\n",
    "            E_XY = np.mean(XY,axis=-1)\n",
    "            up = E_XY - mean_X[i] * mean_X[j]\n",
    "            down = np.sqrt(mean_X_2[i] - mean_X[i]*mean_X[i]) * np.sqrt(mean_X_2[j] - mean_X[j]*mean_X[j]) + 1e-3\n",
    "            Z[i,j] = up / down\n",
    "    return Z + np.transpose(Z) - np.diag(np.diag(Z))"
   ]
  },
  {
   "cell_type": "code",
   "execution_count": null,
   "id": "8f049bfc-3296-4206-968a-ecc6ec218c14",
   "metadata": {},
   "outputs": [],
   "source": [
    "rs_uu_v2 = CF(ratings_base, k = 30, dist_func=similarity, uuCF = 1)\n",
    "rs_uu_v2.fit()\n",
    "\n",
    "n_tests = ratings_test.shape[0]\n",
    "SE = 0 # squared error\n",
    "for n in range(n_tests):\n",
    "    pred = rs_uu_v2.pred(ratings_test[n, 0], ratings_test[n, 1], normalized = 0)\n",
    "    SE += (pred - ratings_test[n, 2])**2 \n",
    "\n",
    "RMSE = np.sqrt(SE/n_tests)\n",
    "print('User-user CF, RMSE =', RMSE)"
   ]
  },
  {
   "cell_type": "code",
   "execution_count": null,
   "id": "370f0fc4-d2ab-4d7b-a6a2-b6ce83527cd5",
   "metadata": {},
   "outputs": [],
   "source": []
  }
 ],
 "metadata": {
  "interpreter": {
   "hash": "820ffcdd6b1b35507d97313e38589e8d906f8586e8fd46c1656a0e0634e6a34f"
  },
  "kernelspec": {
   "display_name": "Python [conda env:pDL] *",
   "language": "python",
   "name": "python3"
  },
  "language_info": {
   "codemirror_mode": {
    "name": "ipython",
    "version": 3
   },
   "file_extension": ".py",
   "mimetype": "text/x-python",
   "name": "python",
   "nbconvert_exporter": "python",
   "pygments_lexer": "ipython3",
   "version": "3.8.13"
  }
 },
 "nbformat": 4,
 "nbformat_minor": 5
}
